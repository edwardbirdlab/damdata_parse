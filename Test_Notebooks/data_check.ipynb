{
 "cells": [
  {
   "cell_type": "code",
   "id": "initial_id",
   "metadata": {
    "collapsed": true,
    "ExecuteTime": {
     "end_time": "2024-10-22T17:35:36.485910Z",
     "start_time": "2024-10-22T17:35:36.474843Z"
    }
   },
   "source": "import pandas as pd",
   "outputs": [],
   "execution_count": 83
  },
  {
   "metadata": {
    "ExecuteTime": {
     "end_time": "2024-10-22T03:43:10.625505Z",
     "start_time": "2024-10-22T03:43:10.594551Z"
    }
   },
   "cell_type": "code",
   "source": "samplesheet = pd.read_csv('../Test_Data/samplesheet_final.csv')",
   "id": "1a0e330be8426a8d",
   "outputs": [],
   "execution_count": 3
  },
  {
   "metadata": {
    "ExecuteTime": {
     "end_time": "2024-10-22T16:35:37.833819Z",
     "start_time": "2024-10-22T16:35:37.817508Z"
    }
   },
   "cell_type": "code",
   "source": [
    "def check_extra(df):\n",
    "       \"\"\"\n",
    "              \n",
    "       :param df: Input dataframe\n",
    "       :return: A count of how many reads had a error\n",
    "       \"\"\"\n",
    "       failed_reads = 0\n",
    "       for val in df.Extras:\n",
    "              if val != 0:\n",
    "                     failed_reads += 1\n",
    "\n",
    "       return failed_reads"
   ],
   "id": "6f324b45d1c3145d",
   "outputs": [],
   "execution_count": 64
  },
  {
   "metadata": {
    "ExecuteTime": {
     "end_time": "2024-10-22T16:35:38.152523Z",
     "start_time": "2024-10-22T16:35:38.127477Z"
    }
   },
   "cell_type": "code",
   "source": [
    "def check_status(df):\n",
    "       \"\"\"\n",
    "              \n",
    "       :param df: Input dataframe\n",
    "       :return: A count of how many reads had a error\n",
    "       \"\"\"\n",
    "       failed_reads = 0\n",
    "       for val in df.Status:\n",
    "              if val != 1:\n",
    "                     failed_reads+=1\n",
    "               \n",
    "       return failed_reads"
   ],
   "id": "25f7a7b1759db770",
   "outputs": [],
   "execution_count": 65
  },
  {
   "metadata": {
    "ExecuteTime": {
     "end_time": "2024-10-22T16:35:39.182985Z",
     "start_time": "2024-10-22T16:35:39.158864Z"
    }
   },
   "cell_type": "code",
   "source": [
    "def import_sheet(path):\n",
    "       \"\"\"\n",
    "       :param path: Input path\n",
    "       :return: dataframe\n",
    "       \"\"\"\n",
    "       cols = ['Index', 'Date', 'Time', 'Status', 'Extras', 'Monitor_Number', 'Tube_Number', 'Data_Type',\n",
    "       'NA', 'Light', 'Tube_1', 'Tube_2', 'Tube_3', 'Tube_4', 'Tube_5', 'Tube_6',\n",
    "       'Tube_7', 'Tube_8', 'Tube_9', 'Tube_10', 'Tube_11', 'Tube_12', 'Tube_13',\n",
    "       'Tube_14', 'Tube_15', 'Tube_16', 'Tube_17', 'Tube_18', 'Tube_19',\n",
    "       'Tube_20', 'Tube_21', 'Tube_22', 'Tube_23', 'Tube_24', 'Tube_25',\n",
    "       'Tube_26', 'Tube_27', 'Tube_28', 'Tube_29', 'Tube_30', 'Tube_31',\n",
    "       'Tube_32']\n",
    "       df = pd.read_csv(path, sep='\\t', names=cols)\n",
    "       \n",
    "       df['Date'] = pd.to_datetime(df['Date'], format='%d %b %y')\n",
    "       df['Time'] = pd.to_datetime(df['Time'], format='%H:%M:%S').dt.time\n",
    "       df.insert(1, 'DateTime', df['Date'].astype(str) + ' ' + df['Time'].astype(str))\n",
    "       df['DateTime'] = pd.to_datetime(df['DateTime'])\n",
    "       \n",
    "       return df"
   ],
   "id": "6f04613348b85ada",
   "outputs": [],
   "execution_count": 66
  },
  {
   "metadata": {
    "ExecuteTime": {
     "end_time": "2024-10-22T16:35:39.892306Z",
     "start_time": "2024-10-22T16:35:39.867578Z"
    }
   },
   "cell_type": "code",
   "source": [
    "def get_min_time(df):\n",
    "       \"\"\"\n",
    "       returns the min time\n",
    "       :param df: dataframe with Datetime col\n",
    "       :return: Min Datetime\n",
    "       \"\"\"\n",
    "       \n",
    "       min_date = df['DateTime'].min()\n",
    "       \n",
    "       return min_date"
   ],
   "id": "c966a43776d8d2f8",
   "outputs": [],
   "execution_count": 67
  },
  {
   "metadata": {
    "ExecuteTime": {
     "end_time": "2024-10-22T16:35:40.323630Z",
     "start_time": "2024-10-22T16:35:40.302841Z"
    }
   },
   "cell_type": "code",
   "source": [
    "def get_max_time(df):\n",
    "       \"\"\"\n",
    "       returns the max time\n",
    "       :param df: dataframe with Datetime col\n",
    "       :return: Max Datetime\n",
    "       \"\"\"\n",
    "       \n",
    "       max_date = df['DateTime'].max()\n",
    "       \n",
    "       return max_date"
   ],
   "id": "e98547c45ba1cee9",
   "outputs": [],
   "execution_count": 68
  },
  {
   "metadata": {
    "ExecuteTime": {
     "end_time": "2024-10-22T17:19:24.838910Z",
     "start_time": "2024-10-22T17:19:24.818017Z"
    }
   },
   "cell_type": "code",
   "source": [
    "def check_qc(samplesheet):\n",
    "       \"\"\"\n",
    "       Checks internal DAM QC metics for errors\n",
    "       :param samplesheet: \n",
    "       \"\"\"\n",
    "       for path in samplesheet['path']:\n",
    "              \n",
    "              sheet = import_sheet(path)\n",
    "              \n",
    "              if check_status(sheet) != 0:\n",
    "                     raise Exception(\"An error occurred: There are ' + str(check_status(sheet)) + ' errors in sheet: ' + path\")\n",
    "              if check_extra(sheet) != 0:\n",
    "                     raise Exception(\"An error occurred: There are ' + str(check_extra(sheet)) + ' extra readings in sheet: ' + path\")"
   ],
   "id": "f68c49305b664271",
   "outputs": [],
   "execution_count": 79
  },
  {
   "metadata": {
    "ExecuteTime": {
     "end_time": "2024-10-22T17:19:25.066834Z",
     "start_time": "2024-10-22T17:19:25.048255Z"
    }
   },
   "cell_type": "code",
   "source": [
    "def check_start_stop(samplesheet):\n",
    "       \"\"\"\n",
    "       Checks start and stop time for each sheet\n",
    "       :param samplesheet: samplesheet\n",
    "       \"\"\"\n",
    "\n",
    "       # Read the DataFrames into a list\n",
    "       dataframes = [import_sheet(path) for path in samplesheet['path']]\n",
    "       \n",
    "       # Get min/max datetimes from the DataFrames\n",
    "       min_dates = [df['DateTime'].min() for df in dataframes]\n",
    "       max_dates = [df['DateTime'].min() for df in dataframes]\n",
    "       \n",
    "       if len(list(set(min_dates))) != 1:\n",
    "              raise Exception(\"An error occurred: There are non uniform start times: \" + str(min_dates))\n",
    "       if len(list(set(max_dates))) != 1:\n",
    "              raise Exception(\"An error occurred: There are non uniform stop times: \" + str(max_dates))"
   ],
   "id": "884323a5b0c03190",
   "outputs": [],
   "execution_count": 80
  },
  {
   "metadata": {
    "ExecuteTime": {
     "end_time": "2024-10-22T17:19:25.288391Z",
     "start_time": "2024-10-22T17:19:25.274398Z"
    }
   },
   "cell_type": "code",
   "source": [
    "def whole_process(samplesheet):\n",
    "       \"\"\"\n",
    "       Check inputs files for errors or obvious discrpencies\n",
    "       :param samplesheet: samplesheet from create_csv\n",
    "       :return: True if passes checks\n",
    "       \"\"\"\n",
    "       \n",
    "       check_qc(samplesheet)\n",
    "       check_start_stop(samplesheet)\n",
    "       \n",
    "       return True"
   ],
   "id": "d97ff1c0c4dec71e",
   "outputs": [],
   "execution_count": 81
  },
  {
   "metadata": {
    "ExecuteTime": {
     "end_time": "2024-10-22T17:19:34.592763Z",
     "start_time": "2024-10-22T17:19:26.135497Z"
    }
   },
   "cell_type": "code",
   "source": "whole_process(samplesheet)",
   "id": "a0157a04524e1d36",
   "outputs": [
    {
     "data": {
      "text/plain": [
       "True"
      ]
     },
     "execution_count": 82,
     "metadata": {},
     "output_type": "execute_result"
    }
   ],
   "execution_count": 82
  },
  {
   "metadata": {},
   "cell_type": "code",
   "outputs": [],
   "execution_count": null,
   "source": "",
   "id": "988e02d5164add28"
  }
 ],
 "metadata": {
  "kernelspec": {
   "display_name": "Python 3",
   "language": "python",
   "name": "python3"
  },
  "language_info": {
   "codemirror_mode": {
    "name": "ipython",
    "version": 2
   },
   "file_extension": ".py",
   "mimetype": "text/x-python",
   "name": "python",
   "nbconvert_exporter": "python",
   "pygments_lexer": "ipython2",
   "version": "2.7.6"
  }
 },
 "nbformat": 4,
 "nbformat_minor": 5
}
