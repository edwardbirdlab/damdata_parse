{
 "cells": [
  {
   "cell_type": "code",
   "execution_count": 1,
   "id": "a50961d6-4af2-461b-8ee9-147ecdd49d3d",
   "metadata": {
    "ExecuteTime": {
     "end_time": "2024-10-30T21:20:58.665946Z",
     "start_time": "2024-10-30T21:20:57.833880Z"
    }
   },
   "outputs": [
    {
     "name": "stderr",
     "output_type": "stream",
     "text": [
      "\n",
      "Attaching package: 'dplyr'\n",
      "\n",
      "\n",
      "The following objects are masked from 'package:stats':\n",
      "\n",
      "    filter, lag\n",
      "\n",
      "\n",
      "The following objects are masked from 'package:base':\n",
      "\n",
      "    intersect, setdiff, setequal, union\n",
      "\n",
      "\n"
     ]
    }
   ],
   "source": [
    "library(readr)\n",
    "library(dplyr)\n",
    "library(reshape2)\n",
    "library(ggplot2)"
   ]
  },
  {
   "cell_type": "code",
   "execution_count": 2,
   "id": "eb5c72fe-9bf7-4001-abe3-9fc7270b5cfa",
   "metadata": {},
   "outputs": [],
   "source": [
    "#df<-readr::read_csv(\"minutes_active_hourly_All Three Days CT Sum into Bin_AlldaysCTM004.txt.csv\")\n",
    "#df"
   ]
  },
  {
   "cell_type": "code",
   "execution_count": 3,
   "id": "f34fe6f5-28bc-45d9-a854-ed0471194ad8",
   "metadata": {},
   "outputs": [],
   "source": [
    "#df$datetime <- as.POSIXct(paste(df$day, df$hour, ifelse(df$half_hour == 0, \"00\", \"30\")), format = \"%d %H %M\")\n",
    "#df"
   ]
  },
  {
   "cell_type": "code",
   "execution_count": 4,
   "id": "ae36940d-f25d-47fb-a970-4b818dee63c2",
   "metadata": {},
   "outputs": [],
   "source": [
    "#df <- df[, -c(1:4)]\n",
    "#df <- df %>% select(datetime, everything())\n",
    "#df"
   ]
  },
  {
   "cell_type": "code",
   "execution_count": 5,
   "id": "7d1c302c-60f8-4af9-9556-52ea8146c0b8",
   "metadata": {},
   "outputs": [],
   "source": [
    "#melt_df <- melt(df, na.rm = TRUE, id = c(\"datetime\"))\n",
    "#melt_df"
   ]
  },
  {
   "cell_type": "code",
   "execution_count": 6,
   "id": "ffdde376-0567-401c-bca4-8f73cf65e39d",
   "metadata": {},
   "outputs": [],
   "source": [
    "#melt_df$half_hourly <- cut(melt_df$datetime, breaks = \"30 min\")\n",
    "#melt_df"
   ]
  },
  {
   "cell_type": "code",
   "execution_count": 7,
   "id": "4c4fe119-5025-413f-8dec-ea6a37662551",
   "metadata": {},
   "outputs": [],
   "source": [
    "# Filter data to a certain range of time\n",
    "#start_time <- as.POSIXct(\"2024-03-17 16:00:00\")\n",
    "#end_time <- as.POSIXct(\"2024-03-17 19:00:00\")\n",
    "\n",
    "#melt_df_filtered <- melt_df[melt_df$datetime >= start_time & melt_df$datetime <= end_time, ]\n",
    "#melt_df_filtered"
   ]
  },
  {
   "cell_type": "code",
   "execution_count": 8,
   "id": "1cee8768-8f95-4fe9-839b-bfa0cd1a1dd7",
   "metadata": {},
   "outputs": [],
   "source": [
    "#boxplot(value~datetime,\n",
    "#data=melt_df_filtered,\n",
    "#main=\"Active Minute Every 30 Minutes\",\n",
    "#xlab=\"Time\",\n",
    "#ylab=\"Active Minutes\",\n",
    "#col=\"orange\",\n",
    "#border=\"brown\",\n",
    "#las = 1,    # Rotate x-axis labels to be horizontal\n",
    "#cex.axis = 0.8\n",
    "#)"
   ]
  },
  {
   "cell_type": "code",
   "execution_count": 2,
   "id": "ace4ef4e-4a7b-4987-b099-556246cbd7d8",
   "metadata": {
    "ExecuteTime": {
     "end_time": "2024-10-30T21:21:18.945451Z",
     "start_time": "2024-10-30T21:21:18.869257Z"
    }
   },
   "outputs": [
    {
     "name": "stdout",
     "output_type": "stream",
     "text": [
      "[1] \"dir exists\"\n",
      "[1] \"dir exists\"\n"
     ]
    }
   ],
   "source": [
    "## Making output folder structure\n",
    "\n",
    "if (!dir.exists(\"plots\")){\n",
    "  dir.create(\"plots\")\n",
    "}else{\n",
    "  print(\"dir exists\")\n",
    "}\n",
    "\n",
    "if (!dir.exists(\"plots/box\")){\n",
    "  dir.create(\"plots/box\")\n",
    "}else{\n",
    "  print(\"dir exists\")\n",
    "}"
   ]
  },
  {
   "cell_type": "code",
   "execution_count": 55,
   "id": "922f86a4-4212-4441-81b0-0c45b0e34203",
   "metadata": {},
   "outputs": [
    {
     "name": "stderr",
     "output_type": "stream",
     "text": [
      "\u001b[1m\u001b[22mNew names:\n",
      "\u001b[36m*\u001b[39m `` -> `...1`\n",
      "\u001b[1mRows: \u001b[22m\u001b[34m192\u001b[39m \u001b[1mColumns: \u001b[22m\u001b[34m36\u001b[39m\n",
      "\u001b[36m--\u001b[39m \u001b[1mColumn specification\u001b[22m \u001b[36m--------------------------------------------------------\u001b[39m\n",
      "\u001b[1mDelimiter:\u001b[22m \",\"\n",
      "\u001b[32mdbl\u001b[39m (35): ...1, day, hour, half_hour, Tube_1, Tube_2, Tube_3, Tube_4, Tube_5...\n",
      "\u001b[33mlgl\u001b[39m  (1): Tube_27\n",
      "\n",
      "\u001b[36mi\u001b[39m Use `spec()` to retrieve the full column specification for this data.\n",
      "\u001b[36mi\u001b[39m Specify the column types or set `show_col_types = FALSE` to quiet this message.\n"
     ]
    },
    {
     "data": {
      "text/html": [
       "<strong>png:</strong> 2"
      ],
      "text/latex": [
       "\\textbf{png:} 2"
      ],
      "text/markdown": [
       "**png:** 2"
      ],
      "text/plain": [
       "png \n",
       "  2 "
      ]
     },
     "metadata": {},
     "output_type": "display_data"
    },
    {
     "data": {
      "text/html": [
       "<strong>png:</strong> 2"
      ],
      "text/latex": [
       "\\textbf{png:} 2"
      ],
      "text/markdown": [
       "**png:** 2"
      ],
      "text/plain": [
       "png \n",
       "  2 "
      ]
     },
     "metadata": {},
     "output_type": "display_data"
    }
   ],
   "source": [
    "#Reading DF\n",
    "df<-readr::read_csv(\"output_week2_Virus/minutes_active_hourly_All Three Days CT Sum into Bin_AlldaysCTM004.txt.csv\")\n",
    "#Creating half hour time dataframe\n",
    "df$datetime <- as.POSIXct(paste(df$day, df$hour, ifelse(df$half_hour == 0, \"00\", \"30\")), format = \"%d %H %M\")\n",
    "\n",
    "#Reodering Dataframe\n",
    "df <- df[, -c(1:4)]\n",
    "df <- df %>% select(datetime, everything())\n",
    "\n",
    "#Melting Dataframe\n",
    "melt_df <- melt(df, na.rm = TRUE, id = c(\"datetime\"))\n",
    "\n",
    "#Filtering for evening times\n",
    "start_time <- as.POSIXct(\"2024-03-17 16:00:00\")\n",
    "end_time <- as.POSIXct(\"2024-03-17 19:00:00\")\n",
    "\n",
    "melt_df_filtered_eve <- melt_df[melt_df$datetime >= start_time & melt_df$datetime <= end_time, ]\n",
    "\n",
    "melt_df_filtered_eve$just_time <- format(melt_df_filtered_eve$datetime, \"%H:%M:%S\")\n",
    "\n",
    "#Filtering for morning times\n",
    "start_time <- as.POSIXct(\"2024-03-17 04:00:00\")\n",
    "end_time <- as.POSIXct(\"2024-03-17 07:00:00\")\n",
    "\n",
    "melt_df_filtered_mor <- melt_df[melt_df$datetime >= start_time & melt_df$datetime <= end_time, ]\n",
    "\n",
    "melt_df_filtered_mor$just_time <- format(melt_df_filtered_mor$datetime, \"%H:%M:%S\")\n",
    "\n",
    "#Morning Box-plot\n",
    "png(\"plots/box/Morning Light-Transition (Uninjected Control) Week-2.png\", width = 800, height = 600)  # Adjust width and height as needed\n",
    "boxplot(value~just_time,\n",
    "data=melt_df_filtered_mor,\n",
    "main=\"Morning Light-Transition (Uninjected Control) \\n Week-2\",\n",
    "xlab=\"Time\",\n",
    "ylab=\"Active Minutes\",\n",
    "col=\"orange\",\n",
    "border=\"brown\",\n",
    "las = 1,    # Rotate x-axis labels to be horizontal\n",
    "cex.axis = 1.5,\n",
    "cex.main = 2,  # Adjust the font size of the title\n",
    "cex.lab = 1.7   # Adjust the font size of the axis titles\n",
    ")\n",
    "dev.off()  # Close the PNG device\n",
    "\n",
    "#Evening Box-plot\n",
    "png(\"plots/box/Evening Light-Transition (Uninjected Control) Week-2.png\", width = 800, height = 600)  # Adjust width and height as needed\n",
    "boxplot(value~just_time,\n",
    "data=melt_df_filtered_eve,\n",
    "main=\"Evening Light-Transition (Uninjected Control) \\n Week-2\",\n",
    "xlab=\"Time\",\n",
    "ylab=\"Active Minutes\",\n",
    "col=\"orange\",\n",
    "border=\"brown\",\n",
    "las = 0,    # Rotate x-axis labels to be horizontal\n",
    "cex.axis = 1.5,\n",
    "cex.main = 2,  # Adjust the font size of the title\n",
    "cex.lab = 1.7   # Adjust the font size of the axis titles\n",
    ")\n",
    "dev.off()  # Close the PNG device"
   ]
  },
  {
   "cell_type": "code",
   "execution_count": 56,
   "id": "da28b4b2-f399-4a66-9603-0d80359797e5",
   "metadata": {},
   "outputs": [
    {
     "name": "stderr",
     "output_type": "stream",
     "text": [
      "\u001b[1m\u001b[22mNew names:\n",
      "\u001b[36m*\u001b[39m `` -> `...1`\n",
      "\u001b[1mRows: \u001b[22m\u001b[34m192\u001b[39m \u001b[1mColumns: \u001b[22m\u001b[34m36\u001b[39m\n",
      "\u001b[36m--\u001b[39m \u001b[1mColumn specification\u001b[22m \u001b[36m--------------------------------------------------------\u001b[39m\n",
      "\u001b[1mDelimiter:\u001b[22m \",\"\n",
      "\u001b[32mdbl\u001b[39m (36): ...1, day, hour, half_hour, Tube_1, Tube_2, Tube_3, Tube_4, Tube_5...\n",
      "\n",
      "\u001b[36mi\u001b[39m Use `spec()` to retrieve the full column specification for this data.\n",
      "\u001b[36mi\u001b[39m Specify the column types or set `show_col_types = FALSE` to quiet this message.\n"
     ]
    },
    {
     "data": {
      "text/html": [
       "<strong>png:</strong> 2"
      ],
      "text/latex": [
       "\\textbf{png:} 2"
      ],
      "text/markdown": [
       "**png:** 2"
      ],
      "text/plain": [
       "png \n",
       "  2 "
      ]
     },
     "metadata": {},
     "output_type": "display_data"
    },
    {
     "data": {
      "text/html": [
       "<strong>png:</strong> 2"
      ],
      "text/latex": [
       "\\textbf{png:} 2"
      ],
      "text/markdown": [
       "**png:** 2"
      ],
      "text/plain": [
       "png \n",
       "  2 "
      ]
     },
     "metadata": {},
     "output_type": "display_data"
    }
   ],
   "source": [
    "#Reading DF\n",
    "df<-readr::read_csv(\"output_week2_Virus/minutes_active_hourly_All Three Days CT Sum into Bin_AlldaysCTM005.txt.csv\")\n",
    "#Creating half hour time dataframe\n",
    "df$datetime <- as.POSIXct(paste(df$day, df$hour, ifelse(df$half_hour == 0, \"00\", \"30\")), format = \"%d %H %M\")\n",
    "\n",
    "#Reodering Dataframe\n",
    "df <- df[, -c(1:4)]\n",
    "df <- df %>% select(datetime, everything())\n",
    "\n",
    "#Melting Dataframe\n",
    "melt_df <- melt(df, na.rm = TRUE, id = c(\"datetime\"))\n",
    "\n",
    "#Filtering for evening times\n",
    "start_time <- as.POSIXct(\"2024-03-17 16:00:00\")\n",
    "end_time <- as.POSIXct(\"2024-03-17 19:00:00\")\n",
    "\n",
    "melt_df_filtered_eve <- melt_df[melt_df$datetime >= start_time & melt_df$datetime <= end_time, ]\n",
    "\n",
    "melt_df_filtered_eve$just_time <- format(melt_df_filtered_eve$datetime, \"%H:%M:%S\")\n",
    "\n",
    "#Filtering for morning times\n",
    "start_time <- as.POSIXct(\"2024-03-17 04:00:00\")\n",
    "end_time <- as.POSIXct(\"2024-03-17 07:00:00\")\n",
    "\n",
    "melt_df_filtered_mor <- melt_df[melt_df$datetime >= start_time & melt_df$datetime <= end_time, ]\n",
    "\n",
    "melt_df_filtered_mor$just_time <- format(melt_df_filtered_mor$datetime, \"%H:%M:%S\")\n",
    "\n",
    "\n",
    "#Morning Box-plot\n",
    "png(\"plots/box/Morning Light-Transition (PBS Injected Control) Week-2.png\", width = 800, height = 600)  # Adjust width and height as needed\n",
    "boxplot(value~just_time,\n",
    "data=melt_df_filtered_mor,\n",
    "main=\"Morning Light-Transition (PBS Injected Control) \\n Week-2\",\n",
    "xlab=\"Time\",\n",
    "ylab=\"Active Minutes\",\n",
    "col=\"orange\",\n",
    "border=\"brown\",\n",
    "las = 1,    # Rotate x-axis labels to be horizontal\n",
    "cex.axis = 1.5,\n",
    "cex.main = 2,  # Adjust the font size of the title\n",
    "cex.lab = 1.7   # Adjust the font size of the axis titles\n",
    ")\n",
    "dev.off()  # Close the PNG device\n",
    "\n",
    "#Evening Box-plot\n",
    "png(\"plots/box/Evening Light-Transition (PBS Injected Control) Week-2.png\", width = 800, height = 600)  # Adjust width and height as needed\n",
    "boxplot(value~just_time,\n",
    "data=melt_df_filtered_eve,\n",
    "main=\"Evening Light-Transition (PBS Injected Control) \\n Week-2\",\n",
    "xlab=\"Time\",\n",
    "ylab=\"Active Minutes\",\n",
    "col=\"orange\",\n",
    "border=\"brown\",\n",
    "las = 1,    # Rotate x-axis labels to be horizontal\n",
    "cex.axis = 1.5,\n",
    "cex.main = 2,  # Adjust the font size of the title\n",
    "cex.lab = 1.7   # Adjust the font size of the axis titles\n",
    ")\n",
    "dev.off()  # Close the PNG device"
   ]
  },
  {
   "cell_type": "code",
   "execution_count": 57,
   "id": "a54ec6bb-2a67-4aae-83d2-826405488c82",
   "metadata": {},
   "outputs": [
    {
     "name": "stderr",
     "output_type": "stream",
     "text": [
      "\u001b[1m\u001b[22mNew names:\n",
      "\u001b[36m*\u001b[39m `` -> `...1`\n",
      "\u001b[1mRows: \u001b[22m\u001b[34m192\u001b[39m \u001b[1mColumns: \u001b[22m\u001b[34m36\u001b[39m\n",
      "\u001b[36m--\u001b[39m \u001b[1mColumn specification\u001b[22m \u001b[36m--------------------------------------------------------\u001b[39m\n",
      "\u001b[1mDelimiter:\u001b[22m \",\"\n",
      "\u001b[32mdbl\u001b[39m (35): ...1, day, hour, half_hour, Tube_1, Tube_2, Tube_3, Tube_4, Tube_5...\n",
      "\u001b[33mlgl\u001b[39m  (1): Tube_9\n",
      "\n",
      "\u001b[36mi\u001b[39m Use `spec()` to retrieve the full column specification for this data.\n",
      "\u001b[36mi\u001b[39m Specify the column types or set `show_col_types = FALSE` to quiet this message.\n"
     ]
    },
    {
     "data": {
      "text/html": [
       "<strong>png:</strong> 2"
      ],
      "text/latex": [
       "\\textbf{png:} 2"
      ],
      "text/markdown": [
       "**png:** 2"
      ],
      "text/plain": [
       "png \n",
       "  2 "
      ]
     },
     "metadata": {},
     "output_type": "display_data"
    },
    {
     "data": {
      "text/html": [
       "<strong>png:</strong> 2"
      ],
      "text/latex": [
       "\\textbf{png:} 2"
      ],
      "text/markdown": [
       "**png:** 2"
      ],
      "text/plain": [
       "png \n",
       "  2 "
      ]
     },
     "metadata": {},
     "output_type": "display_data"
    }
   ],
   "source": [
    "#Reading DF\n",
    "df<-readr::read_csv(\"output_week2_Virus/minutes_active_hourly_All Three Days CT Sum into Bin_AlldaysCTM006.txt.csv\")\n",
    "#Creating half hour time dataframe\n",
    "df$datetime <- as.POSIXct(paste(df$day, df$hour, ifelse(df$half_hour == 0, \"00\", \"30\")), format = \"%d %H %M\")\n",
    "\n",
    "#Reodering Dataframe\n",
    "df <- df[, -c(1:4)]\n",
    "df <- df %>% select(datetime, everything())\n",
    "\n",
    "#Melting Dataframe\n",
    "melt_df <- melt(df, na.rm = TRUE, id = c(\"datetime\"))\n",
    "\n",
    "#Filtering for evening times\n",
    "start_time <- as.POSIXct(\"2024-03-17 16:00:00\")\n",
    "end_time <- as.POSIXct(\"2024-03-17 19:00:00\")\n",
    "\n",
    "melt_df_filtered_eve <- melt_df[melt_df$datetime >= start_time & melt_df$datetime <= end_time, ]\n",
    "\n",
    "melt_df_filtered_eve$just_time <- format(melt_df_filtered_eve$datetime, \"%H:%M:%S\")\n",
    "\n",
    "#Filtering for morning times\n",
    "start_time <- as.POSIXct(\"2024-03-17 04:00:00\")\n",
    "end_time <- as.POSIXct(\"2024-03-17 07:00:00\")\n",
    "\n",
    "melt_df_filtered_mor <- melt_df[melt_df$datetime >= start_time & melt_df$datetime <= end_time, ]\n",
    "\n",
    "melt_df_filtered_mor$just_time <- format(melt_df_filtered_mor$datetime, \"%H:%M:%S\")\n",
    "\n",
    "\n",
    "#Morning Box-plot\n",
    "png(\"plots/box/Morning Light-Transition (BTV Injected) Week-2.png\", width = 800, height = 600)  # Adjust width and height as needed\n",
    "boxplot(value~just_time,\n",
    "data=melt_df_filtered_mor,\n",
    "main=\"Morning Light-Transition (BTV Injected) \\n Week-2\",\n",
    "xlab=\"Time\",\n",
    "ylab=\"Active Minutes\",\n",
    "col=\"orange\",\n",
    "border=\"brown\",\n",
    "las = 1,    # Rotate x-axis labels to be horizontal\n",
    "cex.axis = 1.5,\n",
    "cex.main = 2,  # Adjust the font size of the title\n",
    "cex.lab = 1.7   # Adjust the font size of the axis titles\n",
    ")\n",
    "dev.off()  # Close the PNG device\n",
    "\n",
    "#Evening Box-plot\n",
    "png(\"plots/box/Evening Light-Transition (BTV Injected) Week-2.png\", width = 800, height = 600)  # Adjust width and height as needed\n",
    "boxplot(value~just_time,\n",
    "data=melt_df_filtered_eve,\n",
    "main=\"Evening Light-Transition (BTV Injected) \\n Week-2\",\n",
    "xlab=\"Time\",\n",
    "ylab=\"Active Minutes\",\n",
    "col=\"orange\",\n",
    "border=\"brown\",\n",
    "las = 1,    # Rotate x-axis labels to be horizontal\n",
    "cex.axis = 1.5,\n",
    "cex.main = 2,  # Adjust the font size of the title\n",
    "cex.lab = 1.7   # Adjust the font size of the axis titles\n",
    ")\n",
    "dev.off()  # Close the PNG device"
   ]
  },
  {
   "cell_type": "code",
   "execution_count": 58,
   "id": "7422a145-5fb6-40f5-990b-225abd4e502c",
   "metadata": {},
   "outputs": [
    {
     "name": "stderr",
     "output_type": "stream",
     "text": [
      "\u001b[1m\u001b[22mNew names:\n",
      "\u001b[36m*\u001b[39m `` -> `...1`\n",
      "\u001b[1mRows: \u001b[22m\u001b[34m192\u001b[39m \u001b[1mColumns: \u001b[22m\u001b[34m36\u001b[39m\n",
      "\u001b[36m--\u001b[39m \u001b[1mColumn specification\u001b[22m \u001b[36m--------------------------------------------------------\u001b[39m\n",
      "\u001b[1mDelimiter:\u001b[22m \",\"\n",
      "\u001b[32mdbl\u001b[39m (34): ...1, day, hour, half_hour, Tube_1, Tube_2, Tube_3, Tube_4, Tube_5...\n",
      "\u001b[33mlgl\u001b[39m  (2): Tube_13, Tube_31\n",
      "\n",
      "\u001b[36mi\u001b[39m Use `spec()` to retrieve the full column specification for this data.\n",
      "\u001b[36mi\u001b[39m Specify the column types or set `show_col_types = FALSE` to quiet this message.\n"
     ]
    },
    {
     "data": {
      "text/html": [
       "<strong>png:</strong> 2"
      ],
      "text/latex": [
       "\\textbf{png:} 2"
      ],
      "text/markdown": [
       "**png:** 2"
      ],
      "text/plain": [
       "png \n",
       "  2 "
      ]
     },
     "metadata": {},
     "output_type": "display_data"
    },
    {
     "data": {
      "text/html": [
       "<strong>png:</strong> 2"
      ],
      "text/latex": [
       "\\textbf{png:} 2"
      ],
      "text/markdown": [
       "**png:** 2"
      ],
      "text/plain": [
       "png \n",
       "  2 "
      ]
     },
     "metadata": {},
     "output_type": "display_data"
    }
   ],
   "source": [
    "#Reading DF\n",
    "df<-readr::read_csv(\"output_week2_Virus/minutes_active_hourly_All Three Days CT Sum into Bin_AlldaysCTM007.txt.csv\")\n",
    "#Creating half hour time dataframe\n",
    "df$datetime <- as.POSIXct(paste(df$day, df$hour, ifelse(df$half_hour == 0, \"00\", \"30\")), format = \"%d %H %M\")\n",
    "\n",
    "#Reodering Dataframe\n",
    "df <- df[, -c(1:4)]\n",
    "df <- df %>% select(datetime, everything())\n",
    "\n",
    "#Melting Dataframe\n",
    "melt_df <- melt(df, na.rm = TRUE, id = c(\"datetime\"))\n",
    "\n",
    "#Filtering for evening times\n",
    "start_time <- as.POSIXct(\"2024-03-17 16:00:00\")\n",
    "end_time <- as.POSIXct(\"2024-03-17 19:00:00\")\n",
    "\n",
    "melt_df_filtered_eve <- melt_df[melt_df$datetime >= start_time & melt_df$datetime <= end_time, ]\n",
    "\n",
    "melt_df_filtered_eve$just_time <- format(melt_df_filtered_eve$datetime, \"%H:%M:%S\")\n",
    "\n",
    "#Filtering for morning times\n",
    "start_time <- as.POSIXct(\"2024-03-17 04:00:00\")\n",
    "end_time <- as.POSIXct(\"2024-03-17 07:00:00\")\n",
    "\n",
    "melt_df_filtered_mor <- melt_df[melt_df$datetime >= start_time & melt_df$datetime <= end_time, ]\n",
    "\n",
    "melt_df_filtered_mor$just_time <- format(melt_df_filtered_mor$datetime, \"%H:%M:%S\")\n",
    "\n",
    "\n",
    "#Morning Box-plot\n",
    "png(\"plots/box/Morning Light-Transition (VSV Injected) Week-2.png\", width = 800, height = 600)  # Adjust width and height as needed\n",
    "boxplot(value~just_time,\n",
    "data=melt_df_filtered_mor,\n",
    "main=\"Morning Light-Transition (VSV Injected) \\n Week-2\",\n",
    "xlab=\"Time\",\n",
    "ylab=\"Active Minutes\",\n",
    "col=\"orange\",\n",
    "border=\"brown\",\n",
    "las = 1,    # Rotate x-axis labels to be horizontal\n",
    "cex.axis = 1.5,\n",
    "cex.main = 2,  # Adjust the font size of the title\n",
    "cex.lab = 1.7   # Adjust the font size of the axis titles\n",
    ")\n",
    "dev.off()  # Close the PNG device\n",
    "\n",
    "#Evening Box-plot\n",
    "png(\"plots/box/Evening Light-Transition (VSV Injected) Week-2.png\", width = 800, height = 600)  # Adjust width and height as needed\n",
    "boxplot(value~just_time,\n",
    "data=melt_df_filtered_eve,\n",
    "main=\"Evening Light-Transition (VSV Injected) \\n Week-2\",\n",
    "xlab=\"Time\",\n",
    "ylab=\"Active Minutes\",\n",
    "col=\"orange\",\n",
    "border=\"brown\",\n",
    "las = 1,    # Rotate x-axis labels to be horizontal\n",
    "cex.axis = 1.5,\n",
    "cex.main = 2,  # Adjust the font size of the title\n",
    "cex.lab = 1.7   # Adjust the font size of the axis titles\n",
    ")\n",
    "dev.off()  # Close the PNG device"
   ]
  },
  {
   "cell_type": "code",
   "execution_count": 59,
   "id": "7fedd525-3a1e-4c0d-9179-ff9fd55639a7",
   "metadata": {},
   "outputs": [
    {
     "name": "stderr",
     "output_type": "stream",
     "text": [
      "\u001b[1m\u001b[22mNew names:\n",
      "\u001b[36m*\u001b[39m `` -> `...1`\n",
      "\u001b[1mRows: \u001b[22m\u001b[34m240\u001b[39m \u001b[1mColumns: \u001b[22m\u001b[34m36\u001b[39m\n",
      "\u001b[36m--\u001b[39m \u001b[1mColumn specification\u001b[22m \u001b[36m--------------------------------------------------------\u001b[39m\n",
      "\u001b[1mDelimiter:\u001b[22m \",\"\n",
      "\u001b[32mdbl\u001b[39m (32): ...1, day, hour, half_hour, Tube_1, Tube_2, Tube_3, Tube_4, Tube_6...\n",
      "\u001b[33mlgl\u001b[39m  (4): Tube_5, Tube_21, Tube_29, Tube_32\n",
      "\n",
      "\u001b[36mi\u001b[39m Use `spec()` to retrieve the full column specification for this data.\n",
      "\u001b[36mi\u001b[39m Specify the column types or set `show_col_types = FALSE` to quiet this message.\n"
     ]
    },
    {
     "data": {
      "text/html": [
       "<strong>png:</strong> 2"
      ],
      "text/latex": [
       "\\textbf{png:} 2"
      ],
      "text/markdown": [
       "**png:** 2"
      ],
      "text/plain": [
       "png \n",
       "  2 "
      ]
     },
     "metadata": {},
     "output_type": "display_data"
    },
    {
     "data": {
      "text/html": [
       "<strong>png:</strong> 2"
      ],
      "text/latex": [
       "\\textbf{png:} 2"
      ],
      "text/markdown": [
       "**png:** 2"
      ],
      "text/plain": [
       "png \n",
       "  2 "
      ]
     },
     "metadata": {},
     "output_type": "display_data"
    }
   ],
   "source": [
    "#Reading DF\n",
    "df<-readr::read_csv(\"output_week1_Virus/minutes_active_hourly_All Four Days CT Sum into Bin_AllDaysCTM004.txt.csv\")\n",
    "#Creating half hour time dataframe\n",
    "df$datetime <- as.POSIXct(paste(df$day, df$hour, ifelse(df$half_hour == 0, \"00\", \"30\")), format = \"%d %H %M\")\n",
    "\n",
    "#Reodering Dataframe\n",
    "df <- df[, -c(1:4)]\n",
    "df <- df %>% select(datetime, everything())\n",
    "\n",
    "#Melting Dataframe\n",
    "melt_df <- melt(df, na.rm = TRUE, id = c(\"datetime\"))\n",
    "\n",
    "#Filtering for evening times\n",
    "start_time <- as.POSIXct(\"2024-03-28 16:00:00\")\n",
    "end_time <- as.POSIXct(\"2024-03-28 19:00:00\")\n",
    "\n",
    "melt_df_filtered_eve <- melt_df[melt_df$datetime >= start_time & melt_df$datetime <= end_time, ]\n",
    "\n",
    "melt_df_filtered_eve$just_time <- format(melt_df_filtered_eve$datetime, \"%H:%M:%S\")\n",
    "\n",
    "#Filtering for morning times\n",
    "start_time <- as.POSIXct(\"2024-03-28 04:00:00\")\n",
    "end_time <- as.POSIXct(\"2024-03-28 07:00:00\")\n",
    "\n",
    "melt_df_filtered_mor <- melt_df[melt_df$datetime >= start_time & melt_df$datetime <= end_time, ]\n",
    "\n",
    "melt_df_filtered_mor$just_time <- format(melt_df_filtered_mor$datetime, \"%H:%M:%S\")\n",
    "\n",
    "\n",
    "#Morning Box-plot\n",
    "png(\"plots/box/Morning Light-Transition (Uninjected Control) Week-1.png\", width = 800, height = 600)  # Adjust width and height as needed\n",
    "boxplot(value~just_time,\n",
    "data=melt_df_filtered_mor,\n",
    "main=\"Morning Light-Transition (Uninjected Control) \\n Week-1\",\n",
    "xlab=\"Time\",\n",
    "ylab=\"Active Minutes\",\n",
    "col=\"orange\",\n",
    "border=\"brown\",\n",
    "las = 1,    # Rotate x-axis labels to be horizontal\n",
    "cex.axis = 1.5,\n",
    "cex.main = 2,  # Adjust the font size of the title\n",
    "cex.lab = 1.7   # Adjust the font size of the axis titles\n",
    ")\n",
    "dev.off()  # Close the PNG device\n",
    "\n",
    "#Evening Box-plot\n",
    "png(\"plots/box/Evening Light-Transition (Uninjected Control) Week-1.png\", width = 800, height = 600)  # Adjust width and height as needed\n",
    "boxplot(value~just_time,\n",
    "data=melt_df_filtered_eve,\n",
    "main=\"Evening Light-Transition (Uninjected Control) \\n Week-1\",\n",
    "xlab=\"Time\",\n",
    "ylab=\"Active Minutes\",\n",
    "col=\"orange\",\n",
    "border=\"brown\",\n",
    "las = 1,    # Rotate x-axis labels to be horizontal\n",
    "cex.axis = 1.5,\n",
    "cex.main = 2,  # Adjust the font size of the title\n",
    "cex.lab = 1.7   # Adjust the font size of the axis titles\n",
    ")\n",
    "dev.off()  # Close the PNG device"
   ]
  },
  {
   "cell_type": "code",
   "execution_count": 60,
   "id": "ba01135e-13f5-4b7a-bc86-f328793ca8bd",
   "metadata": {},
   "outputs": [
    {
     "name": "stderr",
     "output_type": "stream",
     "text": [
      "\u001b[1m\u001b[22mNew names:\n",
      "\u001b[36m*\u001b[39m `` -> `...1`\n",
      "\u001b[1mRows: \u001b[22m\u001b[34m240\u001b[39m \u001b[1mColumns: \u001b[22m\u001b[34m36\u001b[39m\n",
      "\u001b[36m--\u001b[39m \u001b[1mColumn specification\u001b[22m \u001b[36m--------------------------------------------------------\u001b[39m\n",
      "\u001b[1mDelimiter:\u001b[22m \",\"\n",
      "\u001b[32mdbl\u001b[39m (35): ...1, day, hour, half_hour, Tube_1, Tube_2, Tube_3, Tube_4, Tube_5...\n",
      "\u001b[33mlgl\u001b[39m  (1): Tube_6\n",
      "\n",
      "\u001b[36mi\u001b[39m Use `spec()` to retrieve the full column specification for this data.\n",
      "\u001b[36mi\u001b[39m Specify the column types or set `show_col_types = FALSE` to quiet this message.\n"
     ]
    },
    {
     "data": {
      "text/html": [
       "<strong>png:</strong> 2"
      ],
      "text/latex": [
       "\\textbf{png:} 2"
      ],
      "text/markdown": [
       "**png:** 2"
      ],
      "text/plain": [
       "png \n",
       "  2 "
      ]
     },
     "metadata": {},
     "output_type": "display_data"
    },
    {
     "data": {
      "text/html": [
       "<strong>png:</strong> 2"
      ],
      "text/latex": [
       "\\textbf{png:} 2"
      ],
      "text/markdown": [
       "**png:** 2"
      ],
      "text/plain": [
       "png \n",
       "  2 "
      ]
     },
     "metadata": {},
     "output_type": "display_data"
    }
   ],
   "source": [
    "#Reading DF\n",
    "df<-readr::read_csv(\"output_week1_Virus/minutes_active_hourly_All Four Days CT Sum into Bin_AllDaysCTM005.txt.csv\")\n",
    "#Creating half hour time dataframe\n",
    "df$datetime <- as.POSIXct(paste(df$day, df$hour, ifelse(df$half_hour == 0, \"00\", \"30\")), format = \"%d %H %M\")\n",
    "\n",
    "#Reodering Dataframe\n",
    "df <- df[, -c(1:4)]\n",
    "df <- df %>% select(datetime, everything())\n",
    "\n",
    "#Melting Dataframe\n",
    "melt_df <- melt(df, na.rm = TRUE, id = c(\"datetime\"))\n",
    "\n",
    "#Filtering for evening times\n",
    "start_time <- as.POSIXct(\"2024-03-28 16:00:00\")\n",
    "end_time <- as.POSIXct(\"2024-03-28 19:00:00\")\n",
    "\n",
    "melt_df_filtered_eve <- melt_df[melt_df$datetime >= start_time & melt_df$datetime <= end_time, ]\n",
    "\n",
    "melt_df_filtered_eve$just_time <- format(melt_df_filtered_eve$datetime, \"%H:%M:%S\")\n",
    "\n",
    "#Filtering for morning times\n",
    "start_time <- as.POSIXct(\"2024-03-28 04:00:00\")\n",
    "end_time <- as.POSIXct(\"2024-03-28 07:00:00\")\n",
    "\n",
    "melt_df_filtered_mor <- melt_df[melt_df$datetime >= start_time & melt_df$datetime <= end_time, ]\n",
    "\n",
    "melt_df_filtered_mor$just_time <- format(melt_df_filtered_mor$datetime, \"%H:%M:%S\")\n",
    "\n",
    "\n",
    "#Morning Box-plot\n",
    "png(\"plots/box/Morning Light-Transition (PBS Injected Control) Week-1.png\", width = 800, height = 600)  # Adjust width and height as needed\n",
    "boxplot(value~just_time,\n",
    "data=melt_df_filtered_mor,\n",
    "main=\"Morning Light-Transition (PBS Injected Control) \\n Week-1\",\n",
    "xlab=\"Time\",\n",
    "ylab=\"Active Minutes\",\n",
    "col=\"orange\",\n",
    "border=\"brown\",\n",
    "las = 1,    # Rotate x-axis labels to be horizontal\n",
    "cex.axis = 1.5,\n",
    "cex.main = 2,  # Adjust the font size of the title\n",
    "cex.lab = 1.7   # Adjust the font size of the axis titles\n",
    ")\n",
    "dev.off()  # Close the PNG device\n",
    "\n",
    "#Evening Box-plot\n",
    "png(\"plots/box/Evening Light-Transition (PBS Injected Control) Week-1.png\", width = 800, height = 600)  # Adjust width and height as needed\n",
    "boxplot(value~just_time,\n",
    "data=melt_df_filtered_eve,\n",
    "main=\"Evening Light-Transition (PBS Injected Control) \\n Week-1\",\n",
    "xlab=\"Time\",\n",
    "ylab=\"Active Minutes\",\n",
    "col=\"orange\",\n",
    "border=\"brown\",\n",
    "las = 1,    # Rotate x-axis labels to be horizontal\n",
    "cex.axis = 1.5,\n",
    "cex.main = 2,  # Adjust the font size of the title\n",
    "cex.lab = 1.7   # Adjust the font size of the axis titles\n",
    ")\n",
    "dev.off()  # Close the PNG device"
   ]
  },
  {
   "cell_type": "code",
   "execution_count": 61,
   "id": "84278dbf-b249-4554-9ab1-2c2b5013cf7f",
   "metadata": {},
   "outputs": [
    {
     "name": "stderr",
     "output_type": "stream",
     "text": [
      "\u001b[1m\u001b[22mNew names:\n",
      "\u001b[36m*\u001b[39m `` -> `...1`\n",
      "\u001b[1mRows: \u001b[22m\u001b[34m240\u001b[39m \u001b[1mColumns: \u001b[22m\u001b[34m36\u001b[39m\n",
      "\u001b[36m--\u001b[39m \u001b[1mColumn specification\u001b[22m \u001b[36m--------------------------------------------------------\u001b[39m\n",
      "\u001b[1mDelimiter:\u001b[22m \",\"\n",
      "\u001b[32mdbl\u001b[39m (32): ...1, day, hour, half_hour, Tube_3, Tube_4, Tube_5, Tube_6, Tube_8...\n",
      "\u001b[33mlgl\u001b[39m  (4): Tube_1, Tube_2, Tube_7, Tube_13\n",
      "\n",
      "\u001b[36mi\u001b[39m Use `spec()` to retrieve the full column specification for this data.\n",
      "\u001b[36mi\u001b[39m Specify the column types or set `show_col_types = FALSE` to quiet this message.\n"
     ]
    },
    {
     "data": {
      "text/html": [
       "<strong>png:</strong> 2"
      ],
      "text/latex": [
       "\\textbf{png:} 2"
      ],
      "text/markdown": [
       "**png:** 2"
      ],
      "text/plain": [
       "png \n",
       "  2 "
      ]
     },
     "metadata": {},
     "output_type": "display_data"
    },
    {
     "data": {
      "text/html": [
       "<strong>png:</strong> 2"
      ],
      "text/latex": [
       "\\textbf{png:} 2"
      ],
      "text/markdown": [
       "**png:** 2"
      ],
      "text/plain": [
       "png \n",
       "  2 "
      ]
     },
     "metadata": {},
     "output_type": "display_data"
    }
   ],
   "source": [
    "#Reading DF\n",
    "df<-readr::read_csv(\"output_week1_Virus/minutes_active_hourly_All Four Days CT Sum into Bin_AllDaysCTM006.txt.csv\")\n",
    "#Creating half hour time dataframe\n",
    "df$datetime <- as.POSIXct(paste(df$day, df$hour, ifelse(df$half_hour == 0, \"00\", \"30\")), format = \"%d %H %M\")\n",
    "\n",
    "#Reodering Dataframe\n",
    "df <- df[, -c(1:4)]\n",
    "df <- df %>% select(datetime, everything())\n",
    "\n",
    "#Melting Dataframe\n",
    "melt_df <- melt(df, na.rm = TRUE, id = c(\"datetime\"))\n",
    "\n",
    "#Filtering for evening times\n",
    "start_time <- as.POSIXct(\"2024-03-28 16:00:00\")\n",
    "end_time <- as.POSIXct(\"2024-03-28 19:00:00\")\n",
    "\n",
    "melt_df_filtered_eve <- melt_df[melt_df$datetime >= start_time & melt_df$datetime <= end_time, ]\n",
    "\n",
    "melt_df_filtered_eve$just_time <- format(melt_df_filtered_eve$datetime, \"%H:%M:%S\")\n",
    "\n",
    "#Filtering for morning times\n",
    "start_time <- as.POSIXct(\"2024-03-28 04:00:00\")\n",
    "end_time <- as.POSIXct(\"2024-03-28 07:00:00\")\n",
    "\n",
    "melt_df_filtered_mor <- melt_df[melt_df$datetime >= start_time & melt_df$datetime <= end_time, ]\n",
    "\n",
    "melt_df_filtered_mor$just_time <- format(melt_df_filtered_mor$datetime, \"%H:%M:%S\")\n",
    "\n",
    "\n",
    "#Morning Box-plot\n",
    "png(\"plots/box/Morning Light-Transition (BTV Injected) Week-1.png\", width = 800, height = 600)  # Adjust width and height as needed\n",
    "boxplot(value~just_time,\n",
    "data=melt_df_filtered_mor,\n",
    "main=\"Morning Light-Transition (BTV Injected) \\n Week-1\",\n",
    "xlab=\"Time\",\n",
    "ylab=\"Active Minutes\",\n",
    "col=\"orange\",\n",
    "border=\"brown\",\n",
    "las = 1,    # Rotate x-axis labels to be horizontal\n",
    "cex.axis = 1.5,\n",
    "cex.main = 2,  # Adjust the font size of the title\n",
    "cex.lab = 1.7   # Adjust the font size of the axis titles\n",
    ")\n",
    "dev.off()  # Close the PNG device\n",
    "\n",
    "#Evening Box-plot\n",
    "png(\"plots/box/Evening Light-Transition (BTV Injected) Week-1.png\", width = 800, height = 600)  # Adjust width and height as needed\n",
    "boxplot(value~just_time,\n",
    "data=melt_df_filtered_eve,\n",
    "main=\"Evening Light-Transition (BTV Injected) \\n Week-1\",\n",
    "xlab=\"Time\",\n",
    "ylab=\"Active Minutes\",\n",
    "col=\"orange\",\n",
    "border=\"brown\",\n",
    "las = 1,    # Rotate x-axis labels to be horizontal\n",
    "cex.axis = 1.5,\n",
    "cex.main = 2,  # Adjust the font size of the title\n",
    "cex.lab = 1.7   # Adjust the font size of the axis titles\n",
    ")\n",
    "dev.off()  # Close the PNG device"
   ]
  },
  {
   "cell_type": "code",
   "execution_count": 62,
   "id": "52aa2cfd-616a-4472-9723-437863acf4e8",
   "metadata": {},
   "outputs": [
    {
     "name": "stderr",
     "output_type": "stream",
     "text": [
      "\u001b[1m\u001b[22mNew names:\n",
      "\u001b[36m*\u001b[39m `` -> `...1`\n",
      "\u001b[1mRows: \u001b[22m\u001b[34m240\u001b[39m \u001b[1mColumns: \u001b[22m\u001b[34m36\u001b[39m\n",
      "\u001b[36m--\u001b[39m \u001b[1mColumn specification\u001b[22m \u001b[36m--------------------------------------------------------\u001b[39m\n",
      "\u001b[1mDelimiter:\u001b[22m \",\"\n",
      "\u001b[32mdbl\u001b[39m (26): ...1, day, hour, half_hour, Tube_1, Tube_2, Tube_3, Tube_4, Tube_8...\n",
      "\u001b[33mlgl\u001b[39m (10): Tube_5, Tube_6, Tube_7, Tube_14, Tube_19, Tube_23, Tube_28, Tube_2...\n",
      "\n",
      "\u001b[36mi\u001b[39m Use `spec()` to retrieve the full column specification for this data.\n",
      "\u001b[36mi\u001b[39m Specify the column types or set `show_col_types = FALSE` to quiet this message.\n"
     ]
    },
    {
     "data": {
      "text/html": [
       "<strong>png:</strong> 2"
      ],
      "text/latex": [
       "\\textbf{png:} 2"
      ],
      "text/markdown": [
       "**png:** 2"
      ],
      "text/plain": [
       "png \n",
       "  2 "
      ]
     },
     "metadata": {},
     "output_type": "display_data"
    },
    {
     "data": {
      "text/html": [
       "<strong>png:</strong> 2"
      ],
      "text/latex": [
       "\\textbf{png:} 2"
      ],
      "text/markdown": [
       "**png:** 2"
      ],
      "text/plain": [
       "png \n",
       "  2 "
      ]
     },
     "metadata": {},
     "output_type": "display_data"
    }
   ],
   "source": [
    "#Reading DF\n",
    "df<-readr::read_csv(\"output_week1_Virus/minutes_active_hourly_All Four Days CT Sum into Bin_AllDaysCTM007.txt.csv\")\n",
    "#Creating half hour time dataframe\n",
    "df$datetime <- as.POSIXct(paste(df$day, df$hour, ifelse(df$half_hour == 0, \"00\", \"30\")), format = \"%d %H %M\")\n",
    "\n",
    "#Reodering Dataframe\n",
    "df <- df[, -c(1:4)]\n",
    "df <- df %>% select(datetime, everything())\n",
    "\n",
    "#Melting Dataframe\n",
    "melt_df <- melt(df, na.rm = TRUE, id = c(\"datetime\"))\n",
    "\n",
    "#Filtering for evening times\n",
    "start_time <- as.POSIXct(\"2024-03-28 16:00:00\")\n",
    "end_time <- as.POSIXct(\"2024-03-28 19:00:00\")\n",
    "\n",
    "melt_df_filtered_eve <- melt_df[melt_df$datetime >= start_time & melt_df$datetime <= end_time, ]\n",
    "\n",
    "melt_df_filtered_eve$just_time <- format(melt_df_filtered_eve$datetime, \"%H:%M:%S\")\n",
    "\n",
    "#Filtering for morning times\n",
    "start_time <- as.POSIXct(\"2024-03-28 04:00:00\")\n",
    "end_time <- as.POSIXct(\"2024-03-28 07:00:00\")\n",
    "\n",
    "melt_df_filtered_mor <- melt_df[melt_df$datetime >= start_time & melt_df$datetime <= end_time, ]\n",
    "\n",
    "melt_df_filtered_mor$just_time <- format(melt_df_filtered_mor$datetime, \"%H:%M:%S\")\n",
    "\n",
    "\n",
    "#Morning Box-plot\n",
    "png(\"plots/box/Morning Light-Transition (VSV Injected) Week-1.png\", width = 800, height = 600)  # Adjust width and height as needed\n",
    "boxplot(value~just_time,\n",
    "data=melt_df_filtered_mor,\n",
    "main=\"Morning Light-Transition (VSV Injected) \\n Week-1\",\n",
    "xlab=\"Time\",\n",
    "ylab=\"Active Minutes\",\n",
    "col=\"orange\",\n",
    "border=\"brown\",\n",
    "las = 1,    # Rotate x-axis labels to be horizontal\n",
    "cex.axis = 1.5,\n",
    "cex.main = 2,  # Adjust the font size of the title\n",
    "cex.lab = 1.7   # Adjust the font size of the axis titles\n",
    ")\n",
    "dev.off()  # Close the PNG device\n",
    "\n",
    "#Evening Box-plot\n",
    "png(\"plots/box/Evening Light-Transition (VSV Injected) Week-1.png\", width = 800, height = 600)  # Adjust width and height as needed\n",
    "boxplot(value~just_time,\n",
    "data=melt_df_filtered_eve,\n",
    "main=\"Evening Light-Transition (VSV Injected) \\n Week-1\",\n",
    "xlab=\"Time\",\n",
    "ylab=\"Active Minutes\",\n",
    "col=\"orange\",\n",
    "border=\"brown\",\n",
    "las = 1,    # Rotate x-axis labels to be horizontal\n",
    "cex.axis = 1.5,\n",
    "cex.main = 2,  # Adjust the font size of the title\n",
    "cex.lab = 1.7   # Adjust the font size of the axis titles\n",
    ")\n",
    "dev.off()  # Close the PNG device"
   ]
  },
  {
   "cell_type": "code",
   "execution_count": null,
   "id": "47f5c49e-53c9-403e-9590-c249ca0716cc",
   "metadata": {},
   "outputs": [],
   "source": []
  },
  {
   "cell_type": "code",
   "execution_count": null,
   "id": "7db6a0b1-2a0d-4574-9354-5dccb43ddb04",
   "metadata": {},
   "outputs": [],
   "source": []
  },
  {
   "cell_type": "code",
   "execution_count": null,
   "id": "4e601b10-f9d3-4dcc-a332-b60a87123ff1",
   "metadata": {},
   "outputs": [],
   "source": []
  },
  {
   "cell_type": "code",
   "execution_count": null,
   "id": "ac698680-35c6-4934-a0dd-4ba5b782cf12",
   "metadata": {},
   "outputs": [],
   "source": []
  },
  {
   "cell_type": "code",
   "execution_count": null,
   "id": "a9e87edb-dc6e-4b1b-89b6-d6685ebeb7ef",
   "metadata": {},
   "outputs": [],
   "source": []
  },
  {
   "cell_type": "code",
   "execution_count": 141,
   "id": "db151d74-58d9-4633-a7fa-730441209e2b",
   "metadata": {},
   "outputs": [],
   "source": [
    "# Basic violin plot\n",
    "#p <- ggplot(melt_df_filtered, aes(x=as.factor(datetime), y=value)) + \n",
    "#  geom_violin(fill = \"skyblue\") +\n",
    "#  labs(x = \"Time\", y = \"Active Minutes\", title = \"Violin Plot by 30-Minute Intervals\") +\n",
    "#  theme(axis.text.x = element_text(angle = 90, vjust = 0.5, hjust=1)) +\n",
    "#  scale_y_continuous(limits = c(0, 10))\n",
    "\n",
    "#p <- p + scale_x_discrete(labels = function(x) format(as.POSIXct(x), \"%H:%M\"))\n",
    "\n",
    "#print(p)"
   ]
  },
  {
   "cell_type": "code",
   "execution_count": 142,
   "id": "916713bc-b47a-49c0-8209-ad729be6e728",
   "metadata": {},
   "outputs": [],
   "source": [
    "# Create boxplot without outliers\n",
    "#p <- ggplot(melt_df_filtered, aes(x = as.factor(datetime), y = value)) + \n",
    "#  geom_boxplot(fill = \"skyblue\") +\n",
    "#  labs(x = \"Time\", y = \"Active Minutes\", title = \"Box Plot by 30-Minute Intervals\") +\n",
    "#  theme(axis.text.x = element_text(angle = 90, vjust = 0.5, hjust = 1)) +\n",
    "#  scale_y_continuous(limits = c(0, 10)) +  # Set y-axis limits\n",
    "#  scale_fill_brewer(palette = \"Set1\")  # Set color scheme\n",
    "\n",
    "# Change datetime format of x-axis labels to display just the hour\n",
    "#p <- p + scale_x_discrete(labels = function(x) format(as.POSIXct(x), \"%H:%M\"))\n",
    "\n",
    "#print(p)"
   ]
  },
  {
   "cell_type": "code",
   "execution_count": null,
   "id": "ab34f58f-81ed-4536-b6fa-ddd46d1c7da9",
   "metadata": {},
   "outputs": [],
   "source": []
  }
 ],
 "metadata": {
  "kernelspec": {
   "display_name": "R",
   "language": "R",
   "name": "ir"
  },
  "language_info": {
   "codemirror_mode": "r",
   "file_extension": ".r",
   "mimetype": "text/x-r-source",
   "name": "R",
   "pygments_lexer": "r",
   "version": "4.1.3"
  }
 },
 "nbformat": 4,
 "nbformat_minor": 5
}
