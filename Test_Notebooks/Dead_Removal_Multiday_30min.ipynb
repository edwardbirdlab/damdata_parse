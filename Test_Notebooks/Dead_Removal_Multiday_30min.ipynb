{
 "cells": [
  {
   "cell_type": "code",
   "id": "initial_id",
   "metadata": {
    "collapsed": true,
    "ExecuteTime": {
     "end_time": "2024-10-30T20:01:16.056977Z",
     "start_time": "2024-10-30T20:01:16.050975Z"
    }
   },
   "source": [
    "import pandas as pd\n",
    "from datetime import datetime, timedelta\n",
    "import matplotlib.pyplot as plt"
   ],
   "outputs": [],
   "execution_count": 174
  },
  {
   "metadata": {
    "ExecuteTime": {
     "end_time": "2024-10-30T20:13:35.179276Z",
     "start_time": "2024-10-30T20:13:35.143166Z"
    }
   },
   "cell_type": "code",
   "source": [
    "june_df = pd.read_csv('June_30DB.csv')\n",
    "june_df['DateTime'] = pd.to_datetime(june_df['DateTime'])\n",
    "june_df['Month'] = 'June'\n",
    "july_df = pd.read_csv('July_30DB.csv')\n",
    "july_df['DateTime'] = pd.to_datetime(july_df['DateTime'])\n",
    "july_df['Month'] = 'July'\n",
    "aug_df = pd.read_csv('Aug_30DB.csv')\n",
    "aug_df['DateTime'] = pd.to_datetime(aug_df['DateTime'])\n",
    "aug_df['Month'] = 'August'\n",
    "sept_df = pd.read_csv('Sep_30DB.csv')\n",
    "sept_df['DateTime'] = pd.to_datetime(sept_df['DateTime'])\n",
    "sept_df['Month'] = 'September'\n",
    "\n",
    "month_dfs = [june_df, july_df, aug_df, sept_df]"
   ],
   "id": "d7f05cb0e1bd12c4",
   "outputs": [],
   "execution_count": 201
  },
  {
   "metadata": {
    "ExecuteTime": {
     "end_time": "2024-10-30T20:13:35.975606Z",
     "start_time": "2024-10-30T20:13:35.959396Z"
    }
   },
   "cell_type": "code",
   "source": [
    "def parse_datetime(date_str):\n",
    "    return datetime.strptime(date_str, \"%Y-%m-%d %H:%M:%S\")"
   ],
   "id": "bfe2659684130b50",
   "outputs": [],
   "execution_count": 202
  },
  {
   "metadata": {
    "ExecuteTime": {
     "end_time": "2024-10-30T20:13:36.735513Z",
     "start_time": "2024-10-30T20:13:36.725834Z"
    }
   },
   "cell_type": "code",
   "source": [
    "def tubes_ls():\n",
    "    \"\"\"\n",
    "    returns a list of all tubes\n",
    "    :return: \n",
    "    \"\"\"\n",
    "    tubes = ['Tube_1', 'Tube_2', 'Tube_3', 'Tube_4',\n",
    "       'Tube_5', 'Tube_6', 'Tube_7', 'Tube_8', 'Tube_9', 'Tube_10', 'Tube_11',\n",
    "       'Tube_12', 'Tube_13', 'Tube_14', 'Tube_15', 'Tube_16', 'Tube_17',\n",
    "       'Tube_18', 'Tube_19', 'Tube_20', 'Tube_21', 'Tube_22', 'Tube_23',\n",
    "       'Tube_24', 'Tube_25', 'Tube_26', 'Tube_27', 'Tube_28', 'Tube_29',\n",
    "       'Tube_30', 'Tube_31', 'Tube_32']\n",
    "    return tubes"
   ],
   "id": "8610dae6c7e93a8c",
   "outputs": [],
   "execution_count": 203
  },
  {
   "metadata": {
    "ExecuteTime": {
     "end_time": "2024-10-30T20:13:37.188366Z",
     "start_time": "2024-10-30T20:13:37.172420Z"
    }
   },
   "cell_type": "code",
   "source": [
    "def remove_dead(df, hours, count):\n",
    "\n",
    "    end = df.DateTime.max()\n",
    "    start = end - timedelta(hours=int(hours))\n",
    "    \n",
    "    conditions = df['condition'].unique()\n",
    "    \n",
    "    final_subset_df = pd.DataFrame()\n",
    "    \n",
    "    for con in conditions:\n",
    "        #print(\"Condition: \" + con)\n",
    "        alive_count = 0\n",
    "        dead_count = 0\n",
    "        df_subset = df.loc[(df['DateTime'] >= start) & (df['DateTime'] < end) & (df['condition'] == con)]\n",
    "        con_df = df.loc[df['condition'] == con]\n",
    "        for tube in tubes_ls():\n",
    "            #print(\"Tube: \" + tube + \" had \" + str(df_subset[tube].sum()) + \" counts\")\n",
    "            if df_subset[tube].sum() >= int(count):\n",
    "                alive_count += 1\n",
    "            else:\n",
    "                dead_count += 1\n",
    "                con_df = con_df.drop(columns=[tube])\n",
    "        print(con +\": \" + 'Alive-' + str(alive_count) + \" Dead-\" + str(dead_count))\n",
    "        \n",
    "        final_subset_df = pd.concat([final_subset_df, con_df], ignore_index=True)\n",
    "    \n",
    "    return final_subset_df"
   ],
   "id": "5f528c83a9c62f5a",
   "outputs": [],
   "execution_count": 204
  },
  {
   "metadata": {
    "ExecuteTime": {
     "end_time": "2024-10-30T20:13:37.826403Z",
     "start_time": "2024-10-30T20:13:37.682776Z"
    }
   },
   "cell_type": "code",
   "source": [
    "subset_dfs = []\n",
    "for df in month_dfs:\n",
    "    subset_dfs.append(remove_dead(df, 24, 50))"
   ],
   "id": "98c8406de4899396",
   "outputs": [
    {
     "name": "stdout",
     "output_type": "stream",
     "text": [
      "VSV_JUN: Alive-4 Dead-28\n",
      "BTV_JUN: Alive-4 Dead-28\n",
      "PBS_JUN: Alive-23 Dead-9\n",
      "CTRL_JUN: Alive-11 Dead-21\n",
      "BTV_JUL: Alive-17 Dead-15\n",
      "VSV_JUL: Alive-9 Dead-23\n",
      "CTRL_JUL: Alive-24 Dead-8\n",
      "PBS_JUL: Alive-23 Dead-9\n",
      "PBS_AUG: Alive-23 Dead-9\n",
      "BTV_AUG: Alive-25 Dead-7\n",
      "VSV_AUG: Alive-19 Dead-13\n",
      "CTRL_AUG: Alive-20 Dead-12\n",
      "CTRL_SEP: Alive-18 Dead-14\n",
      "VSV_SEP: Alive-12 Dead-20\n",
      "PBS_SEP: Alive-12 Dead-20\n",
      "BTV_SEP: Alive-20 Dead-12\n"
     ]
    }
   ],
   "execution_count": 205
  },
  {
   "metadata": {
    "ExecuteTime": {
     "end_time": "2024-10-30T20:13:38.620638Z",
     "start_time": "2024-10-30T20:13:38.419499Z"
    }
   },
   "cell_type": "code",
   "source": [
    "for df in subset_dfs:\n",
    "    print(df.describe())"
   ],
   "id": "e4d34a17a624a68a",
   "outputs": [
    {
     "name": "stdout",
     "output_type": "stream",
     "text": [
      "       Unnamed: 0             DateTime      Tube_4     Tube_15     Tube_22  \\\n",
      "count  768.000000                  768  384.000000  576.000000  384.000000   \n",
      "mean   383.500000  2024-06-10 05:15:00   39.648438   21.815972   23.325521   \n",
      "min      0.000000  2024-06-08 05:30:00    0.000000    0.000000    0.000000   \n",
      "25%    191.750000  2024-06-09 05:22:30    0.000000    0.000000    0.000000   \n",
      "50%    383.500000  2024-06-10 05:15:00    0.000000    0.000000    0.000000   \n",
      "75%    575.250000  2024-06-11 05:07:30   15.000000   11.000000    8.000000   \n",
      "max    767.000000  2024-06-12 05:00:00  666.000000  428.000000  373.000000   \n",
      "std    221.846794                  NaN  102.171994   58.024230   56.113004   \n",
      "\n",
      "          Tube_23      Tube_1      Tube_3     Tube_29     Tube_32  ...  \\\n",
      "count  384.000000  576.000000  384.000000  192.000000  192.000000  ...   \n",
      "mean    18.666667   15.451389   12.270833    3.515625   12.270833  ...   \n",
      "min      0.000000    0.000000    0.000000    0.000000    0.000000  ...   \n",
      "25%      0.000000    0.000000    0.000000    0.000000    0.000000  ...   \n",
      "50%      0.000000    0.000000    0.000000    0.000000    0.000000  ...   \n",
      "75%      4.250000    1.000000    0.000000    0.000000    0.000000  ...   \n",
      "max    337.000000  309.000000  251.000000  209.000000  275.000000  ...   \n",
      "std     48.430816   45.596541   37.611239   22.205602   42.636041  ...   \n",
      "\n",
      "          Tube_16     Tube_17     Tube_18     Tube_19     Tube_20     Tube_30  \\\n",
      "count  384.000000  192.000000  192.000000  384.000000  192.000000  384.000000   \n",
      "mean    41.421875   39.156250    6.583333   10.815104   25.223958   20.473958   \n",
      "min      0.000000    0.000000    0.000000    0.000000    0.000000    0.000000   \n",
      "25%      0.000000    0.000000    0.000000    0.000000    0.000000    0.000000   \n",
      "50%      0.000000    0.000000    0.000000    0.000000    0.000000    0.000000   \n",
      "75%      5.250000   22.500000    0.000000    2.000000    5.250000    2.000000   \n",
      "max    488.000000  372.000000  203.000000  228.000000  303.000000  396.000000   \n",
      "std     95.923676   83.856126   24.753091   29.943457   59.588263   56.126390   \n",
      "\n",
      "          Tube_31     Tube_21    Tube_24     Tube_26  \n",
      "count  192.000000  192.000000  192.00000  192.000000  \n",
      "mean    48.750000    6.807292   43.15625    7.604167  \n",
      "min      0.000000    0.000000    0.00000    0.000000  \n",
      "25%      0.000000    0.000000    0.00000    0.000000  \n",
      "50%      0.000000    0.000000    0.00000    0.000000  \n",
      "75%     13.250000    0.000000    4.50000    0.000000  \n",
      "max    404.000000  173.000000  650.00000  156.000000  \n",
      "std    101.646498   22.763279  105.98057   22.239995  \n",
      "\n",
      "[8 rows x 30 columns]\n",
      "       Unnamed: 0             DateTime      Tube_1      Tube_2      Tube_3  \\\n",
      "count  768.000000                  768  384.000000  192.000000  768.000000   \n",
      "mean   383.500000  2024-07-08 05:15:00   26.864583   15.260417   19.332031   \n",
      "min      0.000000  2024-07-06 05:30:00    0.000000    0.000000    0.000000   \n",
      "25%    191.750000  2024-07-07 05:22:30    0.000000    0.000000    0.000000   \n",
      "50%    383.500000  2024-07-08 05:15:00    0.000000    0.000000    0.000000   \n",
      "75%    575.250000  2024-07-09 05:07:30   12.000000   10.000000    1.000000   \n",
      "max    767.000000  2024-07-10 05:00:00  462.000000  264.000000  456.000000   \n",
      "std    221.846794                  NaN   64.542515   37.216993   58.348594   \n",
      "\n",
      "           Tube_4      Tube_5      Tube_7     Tube_11     Tube_13  ...  \\\n",
      "count  576.000000  768.000000  384.000000  576.000000  576.000000  ...   \n",
      "mean    15.383681   16.087240   20.010417   23.798611   17.968750  ...   \n",
      "min      0.000000    0.000000    0.000000    0.000000    0.000000  ...   \n",
      "25%      0.000000    0.000000    0.000000    0.000000    0.000000  ...   \n",
      "50%      0.000000    0.000000    0.000000    0.000000    0.000000  ...   \n",
      "75%      0.000000    0.000000    6.000000   12.000000    2.000000  ...   \n",
      "max    423.000000  458.000000  424.000000  585.000000  353.000000  ...   \n",
      "std     46.519004   51.159045   55.295975   56.051229   49.907418  ...   \n",
      "\n",
      "          Tube_10     Tube_12     Tube_18     Tube_19     Tube_24     Tube_30  \\\n",
      "count  384.000000  384.000000  192.000000  192.000000  384.000000  384.000000   \n",
      "mean    10.223958   22.088542   14.916667   10.645833   11.104167   13.768229   \n",
      "min      0.000000    0.000000    0.000000    0.000000    0.000000    0.000000   \n",
      "25%      0.000000    0.000000    0.000000    0.000000    0.000000    0.000000   \n",
      "50%      0.000000    0.000000    0.000000    0.000000    0.000000    0.000000   \n",
      "75%      0.000000    3.000000    3.000000    6.250000    0.000000    1.000000   \n",
      "max    193.000000  379.000000  329.000000  131.000000  360.000000  342.000000   \n",
      "std     29.254298   56.439274   45.859715   23.629992   39.187500   43.063569   \n",
      "\n",
      "           Tube_8     Tube_26     Tube_27     Tube_32  \n",
      "count  192.000000  192.000000  192.000000  192.000000  \n",
      "mean    10.078125   31.703125   20.343750   17.348958  \n",
      "min      0.000000    0.000000    0.000000    0.000000  \n",
      "25%      0.000000    0.000000    0.000000    0.000000  \n",
      "50%      0.000000    0.000000    0.000000    0.000000  \n",
      "75%      1.000000    3.250000   14.250000    0.000000  \n",
      "max    155.000000  351.000000  188.000000  321.000000  \n",
      "std     28.724347   71.778020   44.120807   54.686427  \n",
      "\n",
      "[8 rows x 33 columns]\n",
      "       Unnamed: 0             DateTime      Tube_1      Tube_3      Tube_4  \\\n",
      "count  768.000000                  768  384.000000  384.000000  576.000000   \n",
      "mean   383.500000  2024-08-11 05:15:00   43.893229    8.908854   25.145833   \n",
      "min      0.000000  2024-08-09 05:30:00    0.000000    0.000000    0.000000   \n",
      "25%    191.750000  2024-08-10 05:22:30    0.000000    0.000000    0.000000   \n",
      "50%    383.500000  2024-08-11 05:15:00    0.000000    0.000000    0.000000   \n",
      "75%    575.250000  2024-08-12 05:07:30   18.250000    0.000000    7.000000   \n",
      "max    767.000000  2024-08-13 05:00:00  554.000000  233.000000  402.000000   \n",
      "std    221.846794                  NaN  100.222111   31.106060   58.979875   \n",
      "\n",
      "           Tube_5      Tube_6      Tube_8     Tube_10     Tube_12  ...  \\\n",
      "count  384.000000  768.000000  576.000000  384.000000  768.000000  ...   \n",
      "mean    38.307292   27.023438   26.465278   16.281250   22.084635  ...   \n",
      "min      0.000000    0.000000    0.000000    0.000000    0.000000  ...   \n",
      "25%      0.000000    0.000000    0.000000    0.000000    0.000000  ...   \n",
      "50%      0.000000    0.000000    0.000000    0.000000    0.000000  ...   \n",
      "75%     22.000000    8.000000    5.000000    1.000000    1.000000  ...   \n",
      "max    576.000000  517.000000  395.000000  397.000000  565.000000  ...   \n",
      "std     88.371926   66.612107   66.863824   47.712083   66.147592  ...   \n",
      "\n",
      "          Tube_30     Tube_32      Tube_2      Tube_7     Tube_11     Tube_18  \\\n",
      "count  768.000000  576.000000  192.000000  384.000000  576.000000  384.000000   \n",
      "mean    38.393229   35.213542   12.614583   25.091146   20.175347   26.335938   \n",
      "min      0.000000    0.000000    0.000000    0.000000    0.000000    0.000000   \n",
      "25%      0.000000    0.000000    0.000000    0.000000    0.000000    0.000000   \n",
      "50%      0.000000    0.000000    0.000000    0.000000    0.000000    0.000000   \n",
      "75%     16.000000    7.000000    1.250000   19.000000    2.000000   14.000000   \n",
      "max    738.000000  644.000000  245.000000  314.000000  355.000000  338.000000   \n",
      "std     96.890960   90.122185   37.379858   51.678152   56.332388   61.043700   \n",
      "\n",
      "          Tube_24     Tube_28     Tube_31      Tube_9  \n",
      "count  576.000000  192.000000  384.000000  192.000000  \n",
      "mean    26.487847   26.630208   24.971354    7.838542  \n",
      "min      0.000000    0.000000    0.000000    0.000000  \n",
      "25%      0.000000    0.000000    0.000000    0.000000  \n",
      "50%      0.000000    0.000000    0.000000    0.000000  \n",
      "75%     16.000000    4.500000    7.250000    1.000000  \n",
      "max    426.000000  576.000000  508.000000  216.000000  \n",
      "std     62.652526   70.327459   60.371709   25.496945  \n",
      "\n",
      "[8 rows x 33 columns]\n",
      "       Unnamed: 0             DateTime      Tube_1      Tube_5      Tube_6  \\\n",
      "count  768.000000                  768  576.000000  192.000000  192.000000   \n",
      "mean   383.500000  2024-10-01 05:15:00   15.484375   47.739583   42.869792   \n",
      "min      0.000000  2024-09-29 05:30:00    0.000000    0.000000    0.000000   \n",
      "25%    191.750000  2024-09-30 05:22:30    0.000000    0.000000    0.000000   \n",
      "50%    383.500000  2024-10-01 05:15:00    0.000000    0.000000    0.000000   \n",
      "75%    575.250000  2024-10-02 05:07:30    1.000000   65.750000   32.000000   \n",
      "max    767.000000  2024-10-03 05:00:00  324.000000  455.000000  404.000000   \n",
      "std    221.846794                  NaN   42.958298   89.671506   86.158679   \n",
      "\n",
      "           Tube_8     Tube_14     Tube_15     Tube_16     Tube_17  ...  \\\n",
      "count  192.000000  576.000000  576.000000  576.000000  768.000000  ...   \n",
      "mean    13.760417   12.654514   21.046875   31.324653   18.579427  ...   \n",
      "min      0.000000    0.000000    0.000000    0.000000    0.000000  ...   \n",
      "25%      0.000000    0.000000    0.000000    0.000000    0.000000  ...   \n",
      "50%      0.000000    0.000000    0.000000    0.000000    0.000000  ...   \n",
      "75%      2.000000    0.000000    4.250000    5.000000    9.250000  ...   \n",
      "max    327.000000  357.000000  498.000000  550.000000  488.000000  ...   \n",
      "std     41.748498   39.615330   57.383223   81.547407   47.973987  ...   \n",
      "\n",
      "          Tube_23     Tube_27      Tube_9     Tube_10     Tube_13     Tube_25  \\\n",
      "count  384.000000  384.000000  384.000000  384.000000  192.000000  192.000000   \n",
      "mean    15.453125   16.846354   38.445312   41.369792   22.322917    7.994792   \n",
      "min      0.000000    0.000000    0.000000    0.000000    0.000000    0.000000   \n",
      "25%      0.000000    0.000000    0.000000    0.000000    0.000000    0.000000   \n",
      "50%      0.000000    0.000000    0.000000    0.000000    0.000000    0.000000   \n",
      "75%      3.250000    2.000000   12.250000   27.250000   12.250000    3.000000   \n",
      "max    345.000000  328.000000  572.000000  604.000000  300.000000  114.000000   \n",
      "std     41.701825   45.952863   91.809555   94.186880   53.728227   18.697229   \n",
      "\n",
      "          Tube_31      Tube_3      Tube_7     Tube_30  \n",
      "count  384.000000  192.000000  192.000000  192.000000  \n",
      "mean    16.138021   12.630208    1.854167    7.296875  \n",
      "min      0.000000    0.000000    0.000000    0.000000  \n",
      "25%      0.000000    0.000000    0.000000    0.000000  \n",
      "50%      0.000000    0.000000    0.000000    0.000000  \n",
      "75%      7.000000    0.000000    0.000000    0.000000  \n",
      "max    312.000000  225.000000  154.000000  187.000000  \n",
      "std     41.617545   37.376445   13.096884   27.073884  \n",
      "\n",
      "[8 rows x 33 columns]\n"
     ]
    }
   ],
   "execution_count": 206
  },
  {
   "metadata": {
    "ExecuteTime": {
     "end_time": "2024-10-30T20:13:39.314023Z",
     "start_time": "2024-10-30T20:13:39.296024Z"
    }
   },
   "cell_type": "code",
   "source": [
    "subset_timefix = []\n",
    "for df in subset_dfs:\n",
    "    df = df.sort_values(by='DateTime')\n",
    "    df['timepoint'] = df['DateTime'].astype('category').cat.codes\n",
    "    subset_timefix.append(df)"
   ],
   "id": "8dc2af7b8984f353",
   "outputs": [],
   "execution_count": 207
  },
  {
   "metadata": {
    "ExecuteTime": {
     "end_time": "2024-10-30T20:13:39.863836Z",
     "start_time": "2024-10-30T20:13:39.855836Z"
    }
   },
   "cell_type": "code",
   "source": [
    "def meltdf_timepoint(df):\n",
    "    # Specify the columns you want to keep as metadata\n",
    "    metadata_columns = ['condition', 'datatype', 'timepoint', 'Month']\n",
    "    \n",
    "    # Identify all tube columns (assuming they follow a naming convention)\n",
    "    tube_columns = [col for col in df.columns if 'Tube_' in col]\n",
    "    \n",
    "    # Melt the DataFrame\n",
    "    melted_df = pd.melt(df, id_vars=metadata_columns, value_vars=tube_columns,\n",
    "                        var_name='Tube', value_name='Value')\n",
    "    \n",
    "    return melted_df"
   ],
   "id": "39ca2d9a0140e4f3",
   "outputs": [],
   "execution_count": 208
  },
  {
   "metadata": {
    "ExecuteTime": {
     "end_time": "2024-10-30T20:13:40.496542Z",
     "start_time": "2024-10-30T20:13:40.449122Z"
    }
   },
   "cell_type": "code",
   "source": [
    "melted_dfs = []\n",
    "for df in subset_timefix:\n",
    "    melt =meltdf_timepoint(df)\n",
    "    melted_dfs.append(melt)"
   ],
   "id": "2264e4299c97bb4a",
   "outputs": [],
   "execution_count": 209
  },
  {
   "metadata": {
    "ExecuteTime": {
     "end_time": "2024-10-30T20:13:41.031543Z",
     "start_time": "2024-10-30T20:13:40.990973Z"
    }
   },
   "cell_type": "code",
   "source": [
    "concat_melted_df = pd.DataFrame()\n",
    "\n",
    "for df in melted_dfs:\n",
    "   concat_melted_df = pd.concat([concat_melted_df, df], ignore_index=True)\n",
    "   \n",
    "concat_melted_df.dropna(inplace=True)"
   ],
   "id": "bcd9a68a073848a2",
   "outputs": [],
   "execution_count": 210
  },
  {
   "metadata": {
    "ExecuteTime": {
     "end_time": "2024-10-30T20:26:12.854224Z",
     "start_time": "2024-10-30T20:26:12.580171Z"
    }
   },
   "cell_type": "code",
   "source": [
    "# Sample data list\n",
    "data = concat_melted_df['Value'].tolist()\n",
    "\n",
    "filtered_data = [x for x in data if x >= 1 ]\n",
    "\n",
    "# Create histogram\n",
    "plt.hist(filtered_data, bins=25, edgecolor='black')  # You can adjust 'bins' as needed\n",
    "plt.xlabel('Value')\n",
    "plt.ylabel('Frequency')\n",
    "plt.title('Histogram of CT > 0 (Bin = 30Min)')\n",
    "\n",
    "# Save the plot as a PNG file\n",
    "plt.savefig('histogram_CT (30min).png', format='png')\n",
    "\n",
    "plt.show()"
   ],
   "id": "29aed7cbd17ced86",
   "outputs": [
    {
     "data": {
      "text/plain": [
       "<Figure size 640x480 with 1 Axes>"
      ],
      "image/png": "[encoded data removed]"
     },
     "metadata": {},
     "output_type": "display_data"
    }
   ],
   "execution_count": 216
  },
  {
   "metadata": {
    "ExecuteTime": {
     "end_time": "2024-10-30T20:09:13.385626Z",
     "start_time": "2024-10-30T20:09:13.058269Z"
    }
   },
   "cell_type": "code",
   "source": "concat_melted_df.to_csv(\"Monthly_melt_5min.csv\", index=False)",
   "id": "c3740390d10fd23",
   "outputs": [],
   "execution_count": 198
  },
  {
   "metadata": {},
   "cell_type": "code",
   "outputs": [],
   "execution_count": null,
   "source": "",
   "id": "f81ca70210f70bb2"
  }
 ],
 "metadata": {
  "kernelspec": {
   "display_name": "Python 3",
   "language": "python",
   "name": "python3"
  },
  "language_info": {
   "codemirror_mode": {
    "name": "ipython",
    "version": 2
   },
   "file_extension": ".py",
   "mimetype": "text/x-python",
   "name": "python",
   "nbconvert_exporter": "python",
   "pygments_lexer": "ipython2",
   "version": "2.7.6"
  }
 },
 "nbformat": 4,
 "nbformat_minor": 5
}
