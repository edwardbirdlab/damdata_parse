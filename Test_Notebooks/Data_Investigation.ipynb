{
 "cells": [
  {
   "cell_type": "code",
   "id": "initial_id",
   "metadata": {
    "collapsed": true,
    "ExecuteTime": {
     "end_time": "2024-10-29T18:27:02.096963Z",
     "start_time": "2024-10-29T18:27:01.738229Z"
    }
   },
   "source": "import pandas as pd",
   "outputs": [],
   "execution_count": 1
  },
  {
   "metadata": {
    "ExecuteTime": {
     "end_time": "2024-10-29T18:27:12.401170Z",
     "start_time": "2024-10-29T18:27:12.352799Z"
    }
   },
   "cell_type": "code",
   "source": [
    "#import metled DF\n",
    "melted_df = pd.read_csv('June_DB_melt.csv')"
   ],
   "id": "a7afd344a77afff5",
   "outputs": [],
   "execution_count": 7
  },
  {
   "metadata": {
    "ExecuteTime": {
     "end_time": "2024-10-29T18:27:13.391245Z",
     "start_time": "2024-10-29T18:27:13.375522Z"
    }
   },
   "cell_type": "code",
   "source": [
    "pca_df = pd.DataFrame()\n",
    "pca_df['Meta'] = melted_df['Meta']\n",
    "pca_df['condition'] = melted_df['condition']\n",
    "pca_df['Trt'] = melted_df['condition'] + '_' + melted_df['Tube']\n",
    "pca_df['Value'] = melted_df['Value']"
   ],
   "id": "a74f4f5efc067ee7",
   "outputs": [],
   "execution_count": 8
  },
  {
   "metadata": {
    "ExecuteTime": {
     "end_time": "2024-10-29T18:27:13.600883Z",
     "start_time": "2024-10-29T18:27:13.584934Z"
    }
   },
   "cell_type": "code",
   "source": "pca_df.head()",
   "id": "a809c7a3d212a75b",
   "outputs": [
    {
     "data": {
      "text/plain": [
       "   Meta condition              Trt  Value\n",
       "0  CT_1   VSV_JUN   VSV_JUN_Tube_1      0\n",
       "1  CT_1   PBS_JUN  PBS_JUN_Tube_10      1\n",
       "2  CT_1   BTV_JUN  BTV_JUN_Tube_10      0\n",
       "3  CT_1   VSV_JUN  VSV_JUN_Tube_10     44\n",
       "4  CT_1   VSV_JUN   VSV_JUN_Tube_2     21"
      ],
      "text/html": [
       "<div>\n",
       "<style scoped>\n",
       "    .dataframe tbody tr th:only-of-type {\n",
       "        vertical-align: middle;\n",
       "    }\n",
       "\n",
       "    .dataframe tbody tr th {\n",
       "        vertical-align: top;\n",
       "    }\n",
       "\n",
       "    .dataframe thead th {\n",
       "        text-align: right;\n",
       "    }\n",
       "</style>\n",
       "<table border=\"1\" class=\"dataframe\">\n",
       "  <thead>\n",
       "    <tr style=\"text-align: right;\">\n",
       "      <th></th>\n",
       "      <th>Meta</th>\n",
       "      <th>condition</th>\n",
       "      <th>Trt</th>\n",
       "      <th>Value</th>\n",
       "    </tr>\n",
       "  </thead>\n",
       "  <tbody>\n",
       "    <tr>\n",
       "      <th>0</th>\n",
       "      <td>CT_1</td>\n",
       "      <td>VSV_JUN</td>\n",
       "      <td>VSV_JUN_Tube_1</td>\n",
       "      <td>0</td>\n",
       "    </tr>\n",
       "    <tr>\n",
       "      <th>1</th>\n",
       "      <td>CT_1</td>\n",
       "      <td>PBS_JUN</td>\n",
       "      <td>PBS_JUN_Tube_10</td>\n",
       "      <td>1</td>\n",
       "    </tr>\n",
       "    <tr>\n",
       "      <th>2</th>\n",
       "      <td>CT_1</td>\n",
       "      <td>BTV_JUN</td>\n",
       "      <td>BTV_JUN_Tube_10</td>\n",
       "      <td>0</td>\n",
       "    </tr>\n",
       "    <tr>\n",
       "      <th>3</th>\n",
       "      <td>CT_1</td>\n",
       "      <td>VSV_JUN</td>\n",
       "      <td>VSV_JUN_Tube_10</td>\n",
       "      <td>44</td>\n",
       "    </tr>\n",
       "    <tr>\n",
       "      <th>4</th>\n",
       "      <td>CT_1</td>\n",
       "      <td>VSV_JUN</td>\n",
       "      <td>VSV_JUN_Tube_2</td>\n",
       "      <td>21</td>\n",
       "    </tr>\n",
       "  </tbody>\n",
       "</table>\n",
       "</div>"
      ]
     },
     "execution_count": 9,
     "metadata": {},
     "output_type": "execute_result"
    }
   ],
   "execution_count": 9
  },
  {
   "metadata": {
    "ExecuteTime": {
     "end_time": "2024-10-29T18:27:13.798683Z",
     "start_time": "2024-10-29T18:27:13.783040Z"
    }
   },
   "cell_type": "code",
   "source": [
    "# Assuming df is your DataFrame with columns: 'condition', 'metadata', 'value'\n",
    "# Pivot the DataFrame to wide format, where metadata columns become features\n",
    "pivot_df = pca_df.pivot(index='Trt', columns='Meta', values='Value')\n",
    "\n",
    "# Reset index to make 'condition' a regular column\n",
    "pivot_df = pivot_df.reset_index()"
   ],
   "id": "3f9eb118876bb017",
   "outputs": [],
   "execution_count": 10
  },
  {
   "metadata": {
    "ExecuteTime": {
     "end_time": "2024-10-29T18:27:14.011825Z",
     "start_time": "2024-10-29T18:27:13.980303Z"
    }
   },
   "cell_type": "code",
   "source": "pivot_df.head()",
   "id": "6a5d1616d6b83268",
   "outputs": [
    {
     "data": {
      "text/plain": [
       "Meta              Trt  CT_1  CT_10  CT_100  CT_101  CT_102  CT_103  CT_104  \\\n",
       "0      BTV_JUN_Tube_1     0      0       0       0       0       0       0   \n",
       "1     BTV_JUN_Tube_10     0      0       0       0       0       0       0   \n",
       "2     BTV_JUN_Tube_11     0      0       0       0       0       0       0   \n",
       "3     BTV_JUN_Tube_12     0     14       0       0       0       0       0   \n",
       "4     BTV_JUN_Tube_13     0      0       0       0       0       0       0   \n",
       "\n",
       "Meta  CT_105  CT_106  ...  CT_90  CT_91  CT_92  CT_93  CT_94  CT_95  CT_96  \\\n",
       "0          0       0  ...      0      0     93      9     16      3     20   \n",
       "1          0       0  ...      0      0      0      0      0      0      0   \n",
       "2          0       0  ...      0      0      0      0      0      0      0   \n",
       "3          0       0  ...      0      0      0      0      0      0      0   \n",
       "4          0       0  ...      0      0      0      0      0      0      0   \n",
       "\n",
       "Meta  CT_97  CT_98  CT_99  \n",
       "0        48      0      0  \n",
       "1         0      0      0  \n",
       "2         0      0      0  \n",
       "3         0      0      0  \n",
       "4         0      0      0  \n",
       "\n",
       "[5 rows x 193 columns]"
      ],
      "text/html": [
       "<div>\n",
       "<style scoped>\n",
       "    .dataframe tbody tr th:only-of-type {\n",
       "        vertical-align: middle;\n",
       "    }\n",
       "\n",
       "    .dataframe tbody tr th {\n",
       "        vertical-align: top;\n",
       "    }\n",
       "\n",
       "    .dataframe thead th {\n",
       "        text-align: right;\n",
       "    }\n",
       "</style>\n",
       "<table border=\"1\" class=\"dataframe\">\n",
       "  <thead>\n",
       "    <tr style=\"text-align: right;\">\n",
       "      <th>Meta</th>\n",
       "      <th>Trt</th>\n",
       "      <th>CT_1</th>\n",
       "      <th>CT_10</th>\n",
       "      <th>CT_100</th>\n",
       "      <th>CT_101</th>\n",
       "      <th>CT_102</th>\n",
       "      <th>CT_103</th>\n",
       "      <th>CT_104</th>\n",
       "      <th>CT_105</th>\n",
       "      <th>CT_106</th>\n",
       "      <th>...</th>\n",
       "      <th>CT_90</th>\n",
       "      <th>CT_91</th>\n",
       "      <th>CT_92</th>\n",
       "      <th>CT_93</th>\n",
       "      <th>CT_94</th>\n",
       "      <th>CT_95</th>\n",
       "      <th>CT_96</th>\n",
       "      <th>CT_97</th>\n",
       "      <th>CT_98</th>\n",
       "      <th>CT_99</th>\n",
       "    </tr>\n",
       "  </thead>\n",
       "  <tbody>\n",
       "    <tr>\n",
       "      <th>0</th>\n",
       "      <td>BTV_JUN_Tube_1</td>\n",
       "      <td>0</td>\n",
       "      <td>0</td>\n",
       "      <td>0</td>\n",
       "      <td>0</td>\n",
       "      <td>0</td>\n",
       "      <td>0</td>\n",
       "      <td>0</td>\n",
       "      <td>0</td>\n",
       "      <td>0</td>\n",
       "      <td>...</td>\n",
       "      <td>0</td>\n",
       "      <td>0</td>\n",
       "      <td>93</td>\n",
       "      <td>9</td>\n",
       "      <td>16</td>\n",
       "      <td>3</td>\n",
       "      <td>20</td>\n",
       "      <td>48</td>\n",
       "      <td>0</td>\n",
       "      <td>0</td>\n",
       "    </tr>\n",
       "    <tr>\n",
       "      <th>1</th>\n",
       "      <td>BTV_JUN_Tube_10</td>\n",
       "      <td>0</td>\n",
       "      <td>0</td>\n",
       "      <td>0</td>\n",
       "      <td>0</td>\n",
       "      <td>0</td>\n",
       "      <td>0</td>\n",
       "      <td>0</td>\n",
       "      <td>0</td>\n",
       "      <td>0</td>\n",
       "      <td>...</td>\n",
       "      <td>0</td>\n",
       "      <td>0</td>\n",
       "      <td>0</td>\n",
       "      <td>0</td>\n",
       "      <td>0</td>\n",
       "      <td>0</td>\n",
       "      <td>0</td>\n",
       "      <td>0</td>\n",
       "      <td>0</td>\n",
       "      <td>0</td>\n",
       "    </tr>\n",
       "    <tr>\n",
       "      <th>2</th>\n",
       "      <td>BTV_JUN_Tube_11</td>\n",
       "      <td>0</td>\n",
       "      <td>0</td>\n",
       "      <td>0</td>\n",
       "      <td>0</td>\n",
       "      <td>0</td>\n",
       "      <td>0</td>\n",
       "      <td>0</td>\n",
       "      <td>0</td>\n",
       "      <td>0</td>\n",
       "      <td>...</td>\n",
       "      <td>0</td>\n",
       "      <td>0</td>\n",
       "      <td>0</td>\n",
       "      <td>0</td>\n",
       "      <td>0</td>\n",
       "      <td>0</td>\n",
       "      <td>0</td>\n",
       "      <td>0</td>\n",
       "      <td>0</td>\n",
       "      <td>0</td>\n",
       "    </tr>\n",
       "    <tr>\n",
       "      <th>3</th>\n",
       "      <td>BTV_JUN_Tube_12</td>\n",
       "      <td>0</td>\n",
       "      <td>14</td>\n",
       "      <td>0</td>\n",
       "      <td>0</td>\n",
       "      <td>0</td>\n",
       "      <td>0</td>\n",
       "      <td>0</td>\n",
       "      <td>0</td>\n",
       "      <td>0</td>\n",
       "      <td>...</td>\n",
       "      <td>0</td>\n",
       "      <td>0</td>\n",
       "      <td>0</td>\n",
       "      <td>0</td>\n",
       "      <td>0</td>\n",
       "      <td>0</td>\n",
       "      <td>0</td>\n",
       "      <td>0</td>\n",
       "      <td>0</td>\n",
       "      <td>0</td>\n",
       "    </tr>\n",
       "    <tr>\n",
       "      <th>4</th>\n",
       "      <td>BTV_JUN_Tube_13</td>\n",
       "      <td>0</td>\n",
       "      <td>0</td>\n",
       "      <td>0</td>\n",
       "      <td>0</td>\n",
       "      <td>0</td>\n",
       "      <td>0</td>\n",
       "      <td>0</td>\n",
       "      <td>0</td>\n",
       "      <td>0</td>\n",
       "      <td>...</td>\n",
       "      <td>0</td>\n",
       "      <td>0</td>\n",
       "      <td>0</td>\n",
       "      <td>0</td>\n",
       "      <td>0</td>\n",
       "      <td>0</td>\n",
       "      <td>0</td>\n",
       "      <td>0</td>\n",
       "      <td>0</td>\n",
       "      <td>0</td>\n",
       "    </tr>\n",
       "  </tbody>\n",
       "</table>\n",
       "<p>5 rows × 193 columns</p>\n",
       "</div>"
      ]
     },
     "execution_count": 11,
     "metadata": {},
     "output_type": "execute_result"
    }
   ],
   "execution_count": 11
  },
  {
   "metadata": {
    "ExecuteTime": {
     "end_time": "2024-10-29T18:27:14.524439Z",
     "start_time": "2024-10-29T18:27:14.508506Z"
    }
   },
   "cell_type": "code",
   "source": [
    "pivot_df['condition'] = pivot_df['Trt'].str.split('_').str[0]\n",
    "pivot_df = pivot_df.drop(columns=['Trt'])"
   ],
   "id": "b9d589190b0b1c6a",
   "outputs": [],
   "execution_count": 12
  },
  {
   "metadata": {
    "ExecuteTime": {
     "end_time": "2024-10-29T18:27:16.164602Z",
     "start_time": "2024-10-29T18:27:14.997154Z"
    }
   },
   "cell_type": "code",
   "source": [
    "from sklearn.preprocessing import StandardScaler\n",
    "\n",
    "features = pivot_df.columns.to_list()\n",
    "features.remove('condition')\n",
    "\n",
    "x = pivot_df.loc[:, features].values\n",
    "y = pivot_df.loc[:,['condition']].values\n",
    "\n",
    "x = StandardScaler().fit_transform(x)"
   ],
   "id": "fcc8dde74a5331a8",
   "outputs": [],
   "execution_count": 13
  },
  {
   "metadata": {
    "ExecuteTime": {
     "end_time": "2024-10-29T18:27:16.396796Z",
     "start_time": "2024-10-29T18:27:16.164602Z"
    }
   },
   "cell_type": "code",
   "source": [
    "from sklearn.decomposition import PCA\n",
    "\n",
    "pca = PCA(n_components=2)\n",
    "\n",
    "principalComponents = pca.fit_transform(x)\n",
    "\n",
    "principalDf = pd.DataFrame(data = principalComponents\n",
    "             , columns = ['principal component 1', 'principal component 2'])"
   ],
   "id": "b223a17f7079a7bf",
   "outputs": [],
   "execution_count": 14
  },
  {
   "metadata": {
    "ExecuteTime": {
     "end_time": "2024-10-29T18:27:16.556203Z",
     "start_time": "2024-10-29T18:27:16.540066Z"
    }
   },
   "cell_type": "code",
   "source": "finalDf = pd.concat([principalDf, pivot_df[['condition']]], axis = 1)",
   "id": "351d82ce914b1f1f",
   "outputs": [],
   "execution_count": 15
  },
  {
   "metadata": {
    "ExecuteTime": {
     "end_time": "2024-10-29T18:27:16.965565Z",
     "start_time": "2024-10-29T18:27:16.949575Z"
    }
   },
   "cell_type": "code",
   "source": "finalDf['condition'].unique()",
   "id": "4da5fa6aec6dfdc4",
   "outputs": [
    {
     "data": {
      "text/plain": [
       "array(['BTV', 'CTRL', 'PBS', 'VSV'], dtype=object)"
      ]
     },
     "execution_count": 16,
     "metadata": {},
     "output_type": "execute_result"
    }
   ],
   "execution_count": 16
  },
  {
   "metadata": {
    "ExecuteTime": {
     "end_time": "2024-10-29T18:27:45.471535Z",
     "start_time": "2024-10-29T18:27:45.307588Z"
    }
   },
   "cell_type": "code",
   "source": [
    "import matplotlib.pyplot as plt\n",
    "\n",
    "fig = plt.figure(figsize = (8,8))\n",
    "ax = fig.add_subplot(1,1,1) \n",
    "ax.set_xlabel('Principal Component 1', fontsize = 15)\n",
    "ax.set_ylabel('Principal Component 2', fontsize = 15)\n",
    "ax.set_title('2 component PCA', fontsize = 20)\n",
    "\n",
    "cons = ['BTV', 'CTRL', 'PBS', 'VSV']\n",
    "colors = ['r', 'g', 'b', 'y']\n",
    "for target, color in zip(cons,colors):\n",
    "    indicesToKeep = finalDf['condition'] == target\n",
    "    ax.scatter(finalDf.loc[indicesToKeep, 'principal component 1']\n",
    "               , finalDf.loc[indicesToKeep, 'principal component 2']\n",
    "               , c = color\n",
    "               , s = 50)\n",
    "ax.legend(cons)\n",
    "ax.grid()"
   ],
   "id": "d67322caef32f5d5",
   "outputs": [
    {
     "data": {
      "text/plain": [
       "<Figure size 800x800 with 1 Axes>"
      ],
      "image/png": "[encoded data removed]"
     },
     "metadata": {},
     "output_type": "display_data"
    }
   ],
   "execution_count": 19
  },
  {
   "metadata": {
    "ExecuteTime": {
     "end_time": "2024-10-29T18:27:18.302658Z",
     "start_time": "2024-10-29T18:27:18.270658Z"
    }
   },
   "cell_type": "code",
   "source": "pca.explained_variance_ratio_",
   "id": "85d025c2e9d7bea2",
   "outputs": [
    {
     "data": {
      "text/plain": [
       "array([0.11279644, 0.08693374])"
      ]
     },
     "execution_count": 18,
     "metadata": {},
     "output_type": "execute_result"
    }
   ],
   "execution_count": 18
  },
  {
   "metadata": {
    "ExecuteTime": {
     "end_time": "2024-10-24T20:03:30.764872Z",
     "start_time": "2024-10-24T20:03:30.751253Z"
    }
   },
   "cell_type": "code",
   "source": [
    "#import seaborn as sns\n",
    "#import matplotlib.pyplot as plt\n",
    "#\n",
    "#corr_matrix = pivot_df[features].corr()\n",
    "#sns.heatmap(corr_matrix, annot=True, cmap='coolwarm')\n",
    "#plt.show()\n"
   ],
   "id": "a8714291d80969f",
   "outputs": [],
   "execution_count": 31
  },
  {
   "metadata": {
    "ExecuteTime": {
     "end_time": "2024-10-24T20:03:37.005643Z",
     "start_time": "2024-10-24T20:03:35.101222Z"
    }
   },
   "cell_type": "code",
   "source": [
    "from sklearn.manifold import TSNE\n",
    "\n",
    "tsne = TSNE(n_components=2, random_state=42)\n",
    "tsne_components = tsne.fit_transform(x)\n",
    "tsne_df = pd.DataFrame(data = tsne_components, columns = ['t-SNE 1', 't-SNE 2'])\n",
    "finalDf = pd.concat([tsne_df, pivot_df[['condition']]], axis = 1)\n",
    "\n",
    "finalDf.head()\n",
    "\n",
    "fig = plt.figure(figsize = (8,8))\n",
    "ax = fig.add_subplot(1,1,1) \n",
    "ax.set_xlabel('t-SNE 1', fontsize = 15)\n",
    "ax.set_ylabel('t-SNE 2', fontsize = 15)\n",
    "ax.set_title('2 component t-SNE', fontsize = 20)\n",
    "\n",
    "cons = ['con1', 'con2', 'con3', 'con4']\n",
    "colors = ['r', 'g', 'b', 'y']\n",
    "for target, color in zip(cons,colors):\n",
    "    indicesToKeep = finalDf['condition'] == target\n",
    "    ax.scatter(finalDf.loc[indicesToKeep, 't-SNE 1']\n",
    "               , finalDf.loc[indicesToKeep, 't-SNE 2']\n",
    "               , c = color\n",
    "               , s = 50)\n",
    "ax.legend(cons)\n",
    "ax.grid()"
   ],
   "id": "7d483de99cfa7390",
   "outputs": [
    {
     "data": {
      "text/plain": [
       "<Figure size 800x800 with 1 Axes>"
      ],
      "image/png": "[encoded data removed]"
     },
     "metadata": {},
     "output_type": "display_data"
    }
   ],
   "execution_count": 32
  },
  {
   "metadata": {
    "ExecuteTime": {
     "end_time": "2024-10-24T20:09:23.172071Z",
     "start_time": "2024-10-24T20:09:05.361045Z"
    }
   },
   "cell_type": "code",
   "source": [
    "from sklearn.ensemble import RandomForestClassifier\n",
    "from sklearn.model_selection import train_test_split\n",
    "from sklearn.metrics import classification_report, confusion_matrix\n",
    "\n",
    "# Split the data into training and testing sets\n",
    "x_train, x_test, y_train, y_test = train_test_split(x, y.ravel(), test_size=0.3, random_state=42)\n",
    "\n",
    "# Create a Random Forest Classifier\n",
    "rf = RandomForestClassifier(n_estimators=5000, random_state=42)\n",
    "\n",
    "# Train the model\n",
    "rf.fit(x_train, y_train)\n",
    "\n",
    "# Make predictions\n",
    "y_pred = rf.predict(x_test)\n",
    "\n",
    "# Evaluate the model\n",
    "print(confusion_matrix(y_test, y_pred))\n",
    "print(classification_report(y_test, y_pred))\n"
   ],
   "id": "4a6f62e8bc10539a",
   "outputs": [
    {
     "name": "stdout",
     "output_type": "stream",
     "text": [
      "[[1 6 1 4]\n",
      " [3 2 2 0]\n",
      " [1 5 1 4]\n",
      " [2 2 2 3]]\n",
      "              precision    recall  f1-score   support\n",
      "\n",
      "        con1       0.14      0.08      0.11        12\n",
      "        con2       0.13      0.29      0.18         7\n",
      "        con3       0.17      0.09      0.12        11\n",
      "        con4       0.27      0.33      0.30         9\n",
      "\n",
      "    accuracy                           0.18        39\n",
      "   macro avg       0.18      0.20      0.18        39\n",
      "weighted avg       0.18      0.18      0.17        39\n",
      "\n"
     ]
    }
   ],
   "execution_count": 34
  },
  {
   "metadata": {},
   "cell_type": "code",
   "outputs": [],
   "execution_count": null,
   "source": "",
   "id": "6aa90fd38b1737d9"
  }
 ],
 "metadata": {
  "kernelspec": {
   "display_name": "Python 3",
   "language": "python",
   "name": "python3"
  },
  "language_info": {
   "codemirror_mode": {
    "name": "ipython",
    "version": 2
   },
   "file_extension": ".py",
   "mimetype": "text/x-python",
   "name": "python",
   "nbconvert_exporter": "python",
   "pygments_lexer": "ipython2",
   "version": "2.7.6"
  }
 },
 "nbformat": 4,
 "nbformat_minor": 5
}
