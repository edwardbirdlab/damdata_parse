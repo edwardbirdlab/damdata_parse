{
 "cells": [
  {
   "cell_type": "code",
   "id": "initial_id",
   "metadata": {
    "collapsed": true,
    "ExecuteTime": {
     "end_time": "2024-10-21T21:07:12.157189Z",
     "start_time": "2024-10-21T21:07:12.147309Z"
    }
   },
   "source": [
    "import pandas as pd\n",
    "import os\n",
    "import time"
   ],
   "outputs": [],
   "execution_count": 2
  },
  {
   "metadata": {},
   "cell_type": "markdown",
   "source": "### Goal 1. Generate CSV to Fill in",
   "id": "cf3467b9a6e1fa6f"
  },
  {
   "metadata": {
    "ExecuteTime": {
     "end_time": "2024-10-22T03:09:45.701643Z",
     "start_time": "2024-10-22T03:09:45.693314Z"
    }
   },
   "cell_type": "code",
   "source": "input_dir = '../Test_Data'",
   "id": "2170208a1561a1ad",
   "outputs": [],
   "execution_count": 17
  },
  {
   "metadata": {
    "ExecuteTime": {
     "end_time": "2024-10-22T03:11:03.324539Z",
     "start_time": "2024-10-22T03:11:03.299972Z"
    }
   },
   "cell_type": "code",
   "source": [
    "def starter_df(import_dir, output):\n",
    "    \"\"\"\n",
    "    \n",
    "    :param import_dir: \n",
    "    :param output: \n",
    "    :return: A CSV of output that contains the start of the samplesheet\n",
    "    \"\"\"\n",
    "\n",
    "    absolute_paths = []\n",
    "    dtype = []\n",
    "    \n",
    "    dir_contents = os.listdir(import_dir)\n",
    "    for dir in dir_contents:\n",
    "        if os.path.isdir(os.path.join(import_dir, dir)):\n",
    "            sub_files = os.listdir(os.path.join(import_dir, dir))\n",
    "            if len(sub_files) > 0:\n",
    "                for file in sub_files:\n",
    "                    full_path = os.path.abspath(os.path.join(import_dir, dir, file))\n",
    "                    absolute_paths.append(full_path)\n",
    "                    dtype.append(dir)\n",
    "            else:\n",
    "                print('There were no data file in: {}'.format(os.path.join(import_dir, dir)))\n",
    "        else:\n",
    "            print(dir + ' is not a directory: Skipping')\n",
    "            \n",
    "    cond = [None] * len(dtype)\n",
    "    \n",
    "    df = pd.DataFrame()\n",
    "    df['condition'] = cond\n",
    "    df['type'] = dtype\n",
    "    df['path'] = absolute_paths\n",
    "    \n",
    "    df.to_csv(output, index=False)"
   ],
   "id": "34ca9bafca674467",
   "outputs": [],
   "execution_count": 18
  },
  {
   "metadata": {},
   "cell_type": "markdown",
   "source": "",
   "id": "a297653bd34762d2"
  },
  {
   "metadata": {
    "ExecuteTime": {
     "end_time": "2024-10-22T03:12:12.236967Z",
     "start_time": "2024-10-22T03:12:12.173432Z"
    }
   },
   "cell_type": "code",
   "source": "starter_df(input_dir, '../Test_data/samplesheet.csv')",
   "id": "a793228ae019ca0e",
   "outputs": [
    {
     "name": "stdout",
     "output_type": "stream",
     "text": [
      "samplesheet.csv is not a directory: Skipping\n"
     ]
    }
   ],
   "execution_count": 20
  },
  {
   "metadata": {},
   "cell_type": "code",
   "outputs": [],
   "execution_count": null,
   "source": "",
   "id": "39c512dbc59e87ee"
  }
 ],
 "metadata": {
  "kernelspec": {
   "display_name": "Python 3",
   "language": "python",
   "name": "python3"
  },
  "language_info": {
   "codemirror_mode": {
    "name": "ipython",
    "version": 2
   },
   "file_extension": ".py",
   "mimetype": "text/x-python",
   "name": "python",
   "nbconvert_exporter": "python",
   "pygments_lexer": "ipython2",
   "version": "2.7.6"
  }
 },
 "nbformat": 4,
 "nbformat_minor": 5
}
